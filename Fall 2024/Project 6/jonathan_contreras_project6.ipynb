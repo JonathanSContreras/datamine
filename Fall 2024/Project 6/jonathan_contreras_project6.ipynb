{
 "cells": [
  {
   "cell_type": "markdown",
   "id": "be02a957-7133-4d02-818e-fedeb3cecb05",
   "metadata": {},
   "source": [
    "# Project 6 -- Jonathan Contreras"
   ]
  },
  {
   "cell_type": "markdown",
   "id": "a1228853-dd19-4ab2-89e0-0394d7d72de3",
   "metadata": {},
   "source": [
    "**TA Help:**\n",
    "    \n",
    "**Collaboration:** "
   ]
  },
  {
   "cell_type": "code",
   "execution_count": 1,
   "id": "49445606-d363-41b4-b479-e319a9a84c01",
   "metadata": {},
   "outputs": [
    {
     "name": "stdout",
     "output_type": "stream",
     "text": [
      "Year,Month,DayofMonth,DayOfWeek,DepTime,CRSDepTime,ArrTime,CRSArrTime,UniqueCarrier,FlightNum,TailNum,ActualElapsedTime,CRSElapsedTime,AirTime,ArrDelay,DepDelay,Origin,Dest,Distance,TaxiIn,TaxiOut,Cancelled,CancellationCode,Diverted,CarrierDelay,WeatherDelay,NASDelay,SecurityDelay,LateAircraftDelay\n",
      "1990,1,3,3,1707,1630,1755,1723,US,29,NA,48,53,NA,32,37,CMH,IND,182,NA,NA,0,NA,0,NA,NA,NA,NA,NA\n",
      "1990,1,4,4,1706,1630,1807,1723,US,29,NA,61,53,NA,44,36,CMH,IND,182,NA,NA,0,NA,0,NA,NA,NA,NA,NA\n",
      "1990,1,5,5,1629,1630,1715,1723,US,29,NA,46,53,NA,-8,-1,CMH,IND,182,NA,NA,0,NA,0,NA,NA,NA,NA,NA\n",
      "1990,1,6,6,1633,1630,1718,1723,US,29,NA,45,53,NA,-5,3,CMH,IND,182,NA,NA,0,NA,0,NA,NA,NA,NA,NA\n",
      "1990,1,8,1,1630,1630,1726,1723,US,29,NA,56,53,NA,3,0,CMH,IND,182,NA,NA,0,NA,0,NA,NA,NA,NA,NA\n",
      "1990,1,9,2,1734,1630,1818,1723,US,29,NA,44,53,NA,55,64,CMH,IND,182,NA,NA,0,NA,0,NA,NA,NA,NA,NA\n",
      "1990,1,10,3,1634,1630,1723,1723,US,29,NA,49,53,NA,0,4,CMH,IND,182,NA,NA,0,NA,0,NA,NA,NA,NA,NA\n",
      "1990,1,11,4,1745,1630,1833,1723,US,29,NA,48,53,NA,70,75,CMH,IND,182,NA,NA,0,NA,0,NA,NA,NA,NA,NA\n",
      "1990,1,12,5,1650,1630,1742,1723,US,29,NA,52,53,NA,19,20,CMH,IND,182,NA,NA,0,NA,0,NA,NA,NA,NA,NA\n"
     ]
    }
   ],
   "source": [
    "%%bash\n",
    "cat /anvil/projects/tdm/data/flights/subset/1990.csv | head"
   ]
  },
  {
   "cell_type": "code",
   "execution_count": 2,
   "id": "37086083-ea71-4c49-8211-0e1757969729",
   "metadata": {},
   "outputs": [
    {
     "name": "stdout",
     "output_type": "stream",
     "text": [
      "hello\n",
      "Origin\n",
      "CMH\n",
      "CMH\n",
      "CMH\n",
      "CMH\n",
      "CMH\n",
      "CMH\n",
      "CMH\n",
      "CMH\n",
      "SLC\n",
      "SLC\n",
      "SLC\n",
      "SLC\n",
      "SLC\n",
      "SLC\n",
      "SLC\n",
      "SLC\n",
      "SLC\n",
      "goodbye\n"
     ]
    }
   ],
   "source": [
    "%%bash\n",
    "cat /anvil/projects/tdm/data/flights/subset/1990.csv | awk -F, 'BEGIN{print \"hello\"} {print $17} END{print \"goodbye\"}' | head\n",
    "cat /anvil/projects/tdm/data/flights/subset/1990.csv | awk -F, 'BEGIN{print \"hello\"} {print $17} END{print \"goodbye\"}' | tail"
   ]
  },
  {
   "cell_type": "code",
   "execution_count": 3,
   "id": "5938cc70-2c86-4e2d-9596-bea6d9f53bc0",
   "metadata": {},
   "outputs": [
    {
     "name": "stdout",
     "output_type": "stream",
     "text": [
      "flight from Origin to Dest\n",
      "flight from CMH to IND\n",
      "flight from CMH to IND\n",
      "flight from CMH to IND\n",
      "flight from CMH to IND\n",
      "flight from CMH to IND\n",
      "flight from CMH to IND\n",
      "flight from CMH to IND\n",
      "flight from CMH to IND\n",
      "flight from CMH to IND\n"
     ]
    }
   ],
   "source": [
    "%%bash\n",
    "cat /anvil/projects/tdm/data/flights/subset/1990.csv | awk -F, '{print \"flight from \"$17\" to \"$18}' | head"
   ]
  },
  {
   "cell_type": "code",
   "execution_count": 4,
   "id": "2fe97bb3-72bc-4196-8eb5-265f151f0e30",
   "metadata": {},
   "outputs": [
    {
     "name": "stdout",
     "output_type": "stream",
     "text": [
      "IND\n",
      "IND\n",
      "IND\n",
      "IND\n",
      "IND\n",
      "IND\n",
      "IND\n",
      "IND\n",
      "IND\n",
      "IND\n"
     ]
    }
   ],
   "source": [
    "%%bash\n",
    "cat /anvil/projects/tdm/data/flights/subset/1990.csv | awk -F, '{if ($17 == \"CMH\") {print$18}}' | head"
   ]
  },
  {
   "cell_type": "code",
   "execution_count": 5,
   "id": "320c4de6-89ca-4141-b1a5-88ca38d11b3b",
   "metadata": {},
   "outputs": [
    {
     "name": "stdout",
     "output_type": "stream",
     "text": [
      "   2461 AUS\n",
      "   2558 SFO\n",
      "   2594 PHX\n",
      "   3018 LAX\n",
      "   3511 ATL\n",
      "   3628 MSY\n",
      "   3693 SAT\n",
      "   4105 DEN\n",
      "   4441 ORD\n",
      "   9274 DFW\n"
     ]
    }
   ],
   "source": [
    "%%bash\n",
    "cat /anvil/projects/tdm/data/flights/subset/1990.csv | awk -F, '{if ($18 == \"IAH\") {print$17}}' | sort | uniq -c | sort -n | tail"
   ]
  },
  {
   "cell_type": "code",
   "execution_count": 6,
   "id": "7ba194a0-e8d2-41a7-95b4-41a245189071",
   "metadata": {},
   "outputs": [
    {
     "name": "stdout",
     "output_type": "stream",
     "text": [
      "   2398 AUS\n",
      "   2496 SFO\n",
      "   2553 PHX\n",
      "   2925 LAX\n",
      "   3464 ATL\n",
      "   3569 MSY\n",
      "   3609 SAT\n",
      "   4103 DEN\n",
      "   4516 ORD\n",
      "   9430 DFW\n"
     ]
    }
   ],
   "source": [
    "%%bash\n",
    "cat /anvil/projects/tdm/data/flights/subset/1990.csv | awk -F, '{if ($17 == \"IAH\") {print$18}}' | sort | uniq -c | sort -n | tail"
   ]
  },
  {
   "cell_type": "code",
   "execution_count": 7,
   "id": "940fe10f-c790-407e-8fd8-b10f87432007",
   "metadata": {},
   "outputs": [
    {
     "name": "stdout",
     "output_type": "stream",
     "text": [
      "     14 Mishawaka\n",
      "     14 Valparaiso\n",
      "     17 Terre Haute\n",
      "     20 Evansville\n",
      "     20 Fishers\n",
      "     23 Carmel\n",
      "     23 South Bend\n",
      "     27 Bloomington\n",
      "     47 Fort Wayne\n",
      "    135 Indianapolis\n"
     ]
    }
   ],
   "source": [
    "%%bash\n",
    "cat /anvil/projects/tdm/data/beer/breweries.csv | awk -F, '{if ($4 == \"IN\") {print$3}}' | sort | uniq -c | sort -n | tail"
   ]
  },
  {
   "cell_type": "code",
   "execution_count": 8,
   "id": "f422bd2e-5a08-4ed3-afce-a77c3e9d12fc",
   "metadata": {},
   "outputs": [
    {
     "name": "stdout",
     "output_type": "stream",
     "text": [
      "DepDelay Origin\n",
      "37 CMH\n",
      "36 CMH\n",
      "-1 CMH\n",
      "3 CMH\n",
      "0 CMH\n",
      "64 CMH\n",
      "4 CMH\n",
      "75 CMH\n",
      "20 CMH\n"
     ]
    }
   ],
   "source": [
    "%%bash\n",
    "head /anvil/projects/tdm/data/flights/subset/1990.csv | awk -F, '{print $16, $17}'"
   ]
  },
  {
   "cell_type": "code",
   "execution_count": 9,
   "id": "4cde25fa-d0ca-492a-b88a-61b63205dbb1",
   "metadata": {},
   "outputs": [
    {
     "name": "stdout",
     "output_type": "stream",
     "text": [
      "5.92128\n"
     ]
    }
   ],
   "source": [
    "%%bash\n",
    "cat /anvil/projects/tdm/data/flights/subset/1990.csv | awk -F, '{if ($17 == \"IND\") {totaldepdelay += $16; numflights +=1}} END{print totaldepdelay/numflights}' | head"
   ]
  },
  {
   "cell_type": "markdown",
   "id": "6180e742-8e39-4698-98ff-5b00c8cf8ea0",
   "metadata": {},
   "source": [
    "## Question 1"
   ]
  },
  {
   "cell_type": "code",
   "execution_count": 12,
   "id": "70c4d8e8-d241-4bfe-ad7c-25e672e26908",
   "metadata": {},
   "outputs": [
    {
     "name": "stdout",
     "output_type": "stream",
     "text": [
      "Sale (Dollars)\n",
      "40.47\n",
      "60.12\n",
      "55.68\n",
      "13.2\n",
      "32.24\n",
      "198\n",
      "80.16\n",
      "302.28\n",
      "40.53\n"
     ]
    }
   ],
   "source": [
    "%%bash\n",
    "# getting the head of the file\n",
    "head /anvil/projects/tdm/data/iowa_liquor_sales/iowa_liquor_sales_cleaner.txt | cut -d';' -f22"
   ]
  },
  {
   "cell_type": "code",
   "execution_count": 13,
   "id": "32ba6242-6389-43b5-879c-acced712eed7",
   "metadata": {},
   "outputs": [
    {
     "name": "stdout",
     "output_type": "stream",
     "text": [
      "total sale value: 3.86987e+09\n"
     ]
    }
   ],
   "source": [
    "%%bash\n",
    "# getting the total sum of sales values from the whole file\n",
    "cat /anvil/projects/tdm/data/iowa_liquor_sales/iowa_liquor_sales_cleaner.txt | awk -F';' '{totalsales += $22} END{print \"total sale value: \"totalsales}' "
   ]
  },
  {
   "cell_type": "markdown",
   "id": "b456e57c-4a12-464b-999a-ef2df5af80c1",
   "metadata": {},
   "source": [
    "Markdown notes and sentences and analysis written here."
   ]
  },
  {
   "cell_type": "markdown",
   "id": "fc601975-35ed-4680-a4e1-0273ee3cc047",
   "metadata": {},
   "source": [
    "## Question 2"
   ]
  },
  {
   "cell_type": "code",
   "execution_count": 14,
   "id": "e45ed7f0-c9d3-4fdf-8180-e8ad5488004c",
   "metadata": {},
   "outputs": [
    {
     "name": "stdout",
     "output_type": "stream",
     "text": [
      "Invoice/Item Number;Date;Store Number;Store Name;Address;City;Zip Code;Store Location;County Number;County;Category;Category Name;Vendor Number;Vendor Name;Item Number;Item Description;Pack;Bottle Volume (ml);State Bottle Cost;State Bottle Retail;Bottles Sold;Sale (Dollars);Volume Sold (Liters);Volume Sold (Gallons)\n",
      "S07122800016;08/16/2012;2846;CVS PHARMACY #8443 / CEDAR RAPIDS;3419 16TH AVE SW;CEDAR RAPIDS;52404;POINT (-91.716615 41.963516);57;LINN;1012100;CANADIAN WHISKIES;55;SAZERAC NORTH AMERICA;12408;CANADIAN LTD WHISKY;6;1750;8.99;13.49;3;40.47;5.25;1.39\n",
      "S21151400007;09/10/2014;3894;SMOKIN' JOE'S #6 TOBACCO AND LIQUOR;1404  1ST AVE NE;CEDAR RAPIDS;52402;POINT (-91.6537 41.987286);57;LINN;1031080;VODKA 80 PROOF;434;LUXCO-ST LOUIS;36306;HAWKEYE VODKA;12;750;3.34;5.01;12;60.12;9;2.38\n",
      "S11572100060;04/10/2013;2558;HY-VEE FOOD STORE / MOUNT PLEASANT;1700 E WASHINGTON;MOUNT PLEASANT;52641;POINT (-91.52888 40.962331000000006);44;HENRY;1082900;MISC. IMPORTED CORDIALS & LIQUEURS;85;BROWN-FORMAN CORPORATION;64676;CHAMBORD LIQUEUR ROYALE DE FRANCE;12;750;18.56;27.84;2;55.68;1.5;0.4\n",
      "S07453200005;08/30/2012;4680;AFAL FOOD & LIQUOR / DES MOINES;4121 SE 14TH ST;DES MOINES;50320;POINT (-93.596755 41.5464);77;POLK;1051010;AMERICAN GRAPE BRANDIES;205;E AND J GALLO WINERY;52594;E & J VS BRANDY;24;375;2.93;4.4;3;13.2;1.12;0.3\n",
      "S23684100152;01/26/2015;2590;HY-VEE FOOD STORE #5 / CEDAR RAPIDS;3235 OAKLAND ROAD NE;CEDAR RAPIDS;52402;POINT (-91.658105 42.010971);57;LINN;1081600;WHISKEY LIQUEUR;259;HEAVEN HILL BRANDS;86796;SOUTHERN HOST WHISKEY LIQUEUR;12;750;5.37;8.06;4;32.24;3;0.79\n",
      "S06685900003;07/19/2012;4126;SAM'S MAINSTREET MARKET / SOLON;123 E MAIN ST;SOLON;52333;POINT (-91.494611 41.807199);52;JOHNSON;1081390;IMPORTED SCHNAPPS;421;SAZERAC CO., INC.;69637;DR. MCGILLICUDDY'S CHERRY SCHNAPPS;12;1000;11;16.5;12;198;12;3.17\n",
      "S15834500013;11/20/2013;3417;BIG G FOOD STORE;PO BOX 261  310 W DILLON;MARENGO;52301;;48;IOWA;1011200;STRAIGHT BOURBON WHISKIES;55;SAZERAC NORTH AMERICA;21598;TEN HIGH;6;1750;8.74;13.36;6;80.16;10.5;2.77\n",
      "S15311500002;10/23/2013;4818;DECORAH MART;303, COLLEGE DR;DECORAH;52101;POINT (-91.796988 43.307662);96;WINNESHIEK;1011200;STRAIGHT BOURBON WHISKIES;65;JIM BEAM BRANDS;19476;MAKER'S MARK;12;750;16.79;25.19;12;302.28;9;2.38\n",
      "S05332900031;05/02/2012;3403;ECON-O-MART / COLUMBUS JUNCTION;113 EAST WALNUT ST.;COLUMBUS JUNCTION;52738;POINT (-91.358467 41.280183);58;LOUISA;1031080;VODKA 80 PROOF;461;CAMPARI(SKYY);37986;SKYY VODKA;12;750;8.51;13.51;3;40.53;2.25;0.59\n"
     ]
    }
   ],
   "source": [
    "%%bash\n",
    "# getting the head of the file\n",
    "cat /anvil/projects/tdm/data/iowa_liquor_sales/iowa_liquor_sales_cleaner.txt | head"
   ]
  },
  {
   "cell_type": "code",
   "execution_count": 15,
   "id": "a16336a1-1ef0-41e8-bc7c-49387db27497",
   "metadata": {},
   "outputs": [
    {
     "name": "stdout",
     "output_type": "stream",
     "text": [
      "total dollar amounts of the donations in the 1980 election data: 204280929\n"
     ]
    }
   ],
   "source": [
    "%%bash\n",
    "# part a)\n",
    "cat /anvil/projects/tdm/data/election/itcont1980.txt | awk -F'|' '{totaldonation += $15} END{print \"total dollar amounts of the donations in the 1980 election data: \"totaldonation}' "
   ]
  },
  {
   "cell_type": "code",
   "execution_count": 16,
   "id": "23c78acf-b6de-459b-bd4a-b5fdedd5f95a",
   "metadata": {},
   "outputs": [
    {
     "name": "stdout",
     "output_type": "stream",
     "text": [
      "total dollar amounts of the donations in all of the election data: 6.27017e+10\n"
     ]
    }
   ],
   "source": [
    "%%bash\n",
    "# part b)\n",
    "cat /anvil/projects/tdm/data/election/itcont*.txt | awk -F'|' '{totaldonation += $15} END{print \"total dollar amounts of the donations in all of the election data: \"totaldonation}' "
   ]
  },
  {
   "cell_type": "markdown",
   "id": "14dc22d4-ddc3-41cc-a91a-cb0025bc0c80",
   "metadata": {},
   "source": [
    "Markdown notes and sentences and analysis written here."
   ]
  },
  {
   "cell_type": "markdown",
   "id": "8e586edd-ff26-4ce2-8f6b-2424b26f2929",
   "metadata": {},
   "source": [
    "## Question 3"
   ]
  },
  {
   "cell_type": "code",
   "execution_count": 17,
   "id": "bbe0f40d-9655-4653-9ca8-886bdb61cb91",
   "metadata": {},
   "outputs": [
    {
     "name": "stdout",
     "output_type": "stream",
     "text": [
      "beer_id,username,date,text,look,smell,taste,feel,overall,score\n",
      "271781,bluejacket74,2017-03-17,\"   750 ml bottle, 2016 vintage, bottle #304 of 360. Served in a DFH snifter, the beer pours dark brown/black with about an inch tan head that stuck around a little while. There's also a good amount of lacing. I like the aroma, the brew smells like dark fruit (raisin, plum), chocolate, roasted malt, and a bit of licorice. For the most part I think the taste is just like the aroma, but with some coffee flavor noticeable too. Mouthfeel/body is medium/full, it's creamy and coating with a moderate amount of carbonation. I think it's a good overall brew, worth picking up if you want a nice straight forward imperial stout. Here's hoping Four String brings this back in the future! $9.99 a bottle.  \",4,4,4,4.25,4,4.03\n",
      "125646,_dirty_,2017-12-21,  ,4.5,4.5,4.5,4.5,4.5,4.5\n",
      "125646,CJDUBYA,2017-12-21,  ,4.75,4.75,4.75,4.75,4.75,4.75\n",
      "125646,GratefulBeerGuy,2017-12-20,\"   0% 16 oz can. Funny story: As I finally walked in the doors after a 45 min wait in line and freezing temps the sweet sound of the Grateful Dead's Sugar Magnolia greeted me from the TreeHouse sound system. The bottom of the can reads: \"\"Going where the wind goes, bloomin' like a red rose\"\" A white haze to the yellow and golden liquid. Thick and healthy, totally unfiltered. Brawny white foam cap, thick, all-white clumps. Huge lacing left over. The aroma has a very zesty citrus hop effect, mellon and mango, grainy earthiness, tropical fruit blend with a bitter to sweet effect, then a peppery kick at the end. Very aromatic. The flavor is just bursting with complex hops, zesty earthy tones, sweet orange, peppery malt, clean fresh feel and overall vibe. A crispy bite wakes you up, full and lush mouthfeel follows from a totally unfiltered expereince. The feel and flavor finishes with a fun, earthy, zesty dry bite. Tropical juicy, zesty citrus, zippy golden wheat malt, melons, rustic earthiness sums up the taste pretty well. Levels of complexity are deep. It's an interesting ride for sure. Overall, this one stands somewhere near the top of the New England IPA's.  \",4.75,4.75,4.5,4.5,4.5,4.58\n",
      "125646,LukeGude,2017-12-20,   Classic TH NEIPA. Overflowing head and bouquet. Strong flavor but smoother than 8.2%. Maybe peach nose but overall a general citrus punch.,4.25,4.5,4.25,4.25,4.25,4.31\n",
      "125646,jneff33,2017-12-20,  ,4.5,4.75,5,5,5,4.91\n",
      "125646,yummybeer,2017-12-19,  ,4.75,4.5,4.75,4.75,4.75,4.69\n",
      "125646,MFMB,2017-12-16,\"   Pours a creamy opaque light straw yellow with a whispy frothy white head. Nose is of citrus skin and light pine. Taste is a thing of beauty! A nice citrus punch in the mouth. Both peeland zest as well as juice of oranges, grapefruit and lemon. Nice malt backbone although minimal presence, you know its there because the hoppyness of this beer is perfectly balanced. Meadium creamy body. Smooth to drink. Finishes with with a Nice pungent citrus bitterness that leaves you craving the next sip to start the process over again. By far my favorite Treehouse brew of the 4 or 5 I’ve had.  \",4.75,4.5,4.5,4.5,4.5,4.52\n",
      "125646,wwoj,2017-12-16,  ,5,4.75,4.5,4.5,4.5,4.59\n"
     ]
    }
   ],
   "source": [
    "%%bash\n",
    "# head of file\n",
    "cat /anvil/projects/tdm/data/beer/reviews.csv | head"
   ]
  },
  {
   "cell_type": "code",
   "execution_count": 19,
   "id": "56061064-8529-4bef-9e04-9978e5b2113e",
   "metadata": {},
   "outputs": [
    {
     "name": "stdout",
     "output_type": "stream",
     "text": [
      "overall average score across the entire data set: 3.88981\n"
     ]
    }
   ],
   "source": [
    "%%bash\n",
    "cat /anvil/projects/tdm/data/beer/reviews.csv | awk -F, '{totalscores += $NF; totallines += 1} END{print \"overall average score across the entire data set: \"totalscores/totallines}'"
   ]
  },
  {
   "cell_type": "markdown",
   "id": "47c6229f-35f7-400c-8366-c442baa5cf47",
   "metadata": {},
   "source": [
    "Markdown notes and sentences and analysis written here."
   ]
  },
  {
   "cell_type": "markdown",
   "id": "da22f29c-d245-4d2b-9fc1-ca14cb6087d9",
   "metadata": {},
   "source": [
    "## Question 4"
   ]
  },
  {
   "cell_type": "code",
   "execution_count": 20,
   "id": "980dd810-146b-4c0f-8499-78f78c878395",
   "metadata": {},
   "outputs": [
    {
     "name": "stdout",
     "output_type": "stream",
     "text": [
      "BASKET_NUM              ,HSHD_NUM        ,PURCHASE_,PRODUCT_NUM                 ,     SPEND,     UNITS,STORE_R,  WEEK_NUM,YEAR\n",
      "000024                  ,1809            ,03-JAN-16,5817389                     ,      -1.5,        -1,SOUTH  ,         1,2016\n",
      "000024                  ,1809            ,03-JAN-16,5829886                     ,      -1.5,        -1,SOUTH  ,         1,2016\n",
      "000034                  ,1253            ,03-JAN-16,0539501                     ,      2.19,         1,EAST   ,         1,2016\n",
      "000060                  ,1595            ,03-JAN-16,5260099                     ,       .99,         1,WEST   ,         1,2016\n",
      "000060                  ,1595            ,03-JAN-16,4535660                     ,       2.5,         2,WEST   ,         1,2016\n",
      "000168                  ,3393            ,03-JAN-16,5602916                     ,       4.5,         1,SOUTH  ,         1,2016\n",
      "000199                  ,4558            ,03-JAN-16,5683532                     ,      3.49,         1,SOUTH  ,         1,2016\n",
      "000252                  ,3491            ,03-JAN-16,0980450                     ,      2.79,         1,SOUTH  ,         1,2016\n",
      "000355                  ,4733            ,03-JAN-16,0735993                     ,         1,         1,EAST   ,         1,2016\n"
     ]
    }
   ],
   "source": [
    "%%bash\n",
    "# head of file\n",
    "cat /anvil/projects/tdm/data/8451/The_Complete_Journey_2_Master/5000_transactions.csv | head"
   ]
  },
  {
   "cell_type": "code",
   "execution_count": 22,
   "id": "8cffc767-d1c8-4d64-b7dc-f0d2ee8a80d1",
   "metadata": {},
   "outputs": [
    {
     "name": "stdout",
     "output_type": "stream",
     "text": [
      "sum of the SPEND colum for the SOUTH: 7.95792e+06\n"
     ]
    }
   ],
   "source": [
    "%%bash\n",
    "grep SOUTH /anvil/projects/tdm/data/8451/The_Complete_Journey_2_Master/5000_transactions.csv | awk -F, '{sum += $5} END{print \"sum of the SPEND colum for the SOUTH: \"sum}' | head"
   ]
  },
  {
   "cell_type": "code",
   "execution_count": 80,
   "id": "d2668112-a264-47de-931e-0c8adbbec51b",
   "metadata": {},
   "outputs": [
    {
     "name": "stdout",
     "output_type": "stream",
     "text": [
      "9.68011e+06\n"
     ]
    }
   ],
   "source": [
    "%%bash\n",
    "grep WEST /anvil/projects/tdm/data/8451/The_Complete_Journey_2_Master/5000_transactions.csv | awk -F, '{sum += $5} END{print sum}' | head"
   ]
  },
  {
   "cell_type": "code",
   "execution_count": 81,
   "id": "c33944d6-1e65-4f27-a796-1c4ee8e2e225",
   "metadata": {},
   "outputs": [
    {
     "name": "stdout",
     "output_type": "stream",
     "text": [
      "1.16994e+07\n"
     ]
    }
   ],
   "source": [
    "%%bash\n",
    "grep EAST /anvil/projects/tdm/data/8451/The_Complete_Journey_2_Master/5000_transactions.csv | awk -F, '{sum += $5} END{print sum}' | head"
   ]
  },
  {
   "cell_type": "code",
   "execution_count": 78,
   "id": "48800739-4a45-46ed-a0bf-0ba14954309a",
   "metadata": {},
   "outputs": [
    {
     "name": "stdout",
     "output_type": "stream",
     "text": [
      "8.89731e+06\n"
     ]
    }
   ],
   "source": [
    "%%bash\n",
    "grep CENTRAL /anvil/projects/tdm/data/8451/The_Complete_Journey_2_Master/5000_transactions.csv | awk -F, '{sum += $5} END{print sum}' | head"
   ]
  },
  {
   "cell_type": "markdown",
   "id": "0d552245-b4d6-474a-9cc9-fa7b8e674d55",
   "metadata": {},
   "source": [
    "Markdown notes and sentences and analysis written here."
   ]
  },
  {
   "cell_type": "markdown",
   "id": "88c9cdac-3e92-498f-83fa-e089bfc44ac8",
   "metadata": {},
   "source": [
    "## Question 5"
   ]
  },
  {
   "cell_type": "code",
   "execution_count": 82,
   "id": "d370d7c9-06db-42b9-b75f-240481a5c491",
   "metadata": {},
   "outputs": [
    {
     "name": "stdout",
     "output_type": "stream",
     "text": [
      "Year,Month,DayofMonth,DayOfWeek,DepTime,CRSDepTime,ArrTime,CRSArrTime,UniqueCarrier,FlightNum,TailNum,ActualElapsedTime,CRSElapsedTime,AirTime,ArrDelay,DepDelay,Origin,Dest,Distance,TaxiIn,TaxiOut,Cancelled,CancellationCode,Diverted,CarrierDelay,WeatherDelay,NASDelay,SecurityDelay,LateAircraftDelay\n",
      "1990,1,3,3,1707,1630,1755,1723,US,29,NA,48,53,NA,32,37,CMH,IND,182,NA,NA,0,NA,0,NA,NA,NA,NA,NA\n",
      "1990,1,4,4,1706,1630,1807,1723,US,29,NA,61,53,NA,44,36,CMH,IND,182,NA,NA,0,NA,0,NA,NA,NA,NA,NA\n",
      "1990,1,5,5,1629,1630,1715,1723,US,29,NA,46,53,NA,-8,-1,CMH,IND,182,NA,NA,0,NA,0,NA,NA,NA,NA,NA\n",
      "1990,1,6,6,1633,1630,1718,1723,US,29,NA,45,53,NA,-5,3,CMH,IND,182,NA,NA,0,NA,0,NA,NA,NA,NA,NA\n",
      "1990,1,8,1,1630,1630,1726,1723,US,29,NA,56,53,NA,3,0,CMH,IND,182,NA,NA,0,NA,0,NA,NA,NA,NA,NA\n",
      "1990,1,9,2,1734,1630,1818,1723,US,29,NA,44,53,NA,55,64,CMH,IND,182,NA,NA,0,NA,0,NA,NA,NA,NA,NA\n",
      "1990,1,10,3,1634,1630,1723,1723,US,29,NA,49,53,NA,0,4,CMH,IND,182,NA,NA,0,NA,0,NA,NA,NA,NA,NA\n",
      "1990,1,11,4,1745,1630,1833,1723,US,29,NA,48,53,NA,70,75,CMH,IND,182,NA,NA,0,NA,0,NA,NA,NA,NA,NA\n",
      "1990,1,12,5,1650,1630,1742,1723,US,29,NA,52,53,NA,19,20,CMH,IND,182,NA,NA,0,NA,0,NA,NA,NA,NA,NA\n"
     ]
    }
   ],
   "source": [
    "%%bash\n",
    "cat /anvil/projects/tdm/data/flights/subset/1990.csv | head"
   ]
  },
  {
   "cell_type": "code",
   "execution_count": 85,
   "id": "cb9473f4-b1af-440f-985b-31bcdb553618",
   "metadata": {},
   "outputs": [
    {
     "name": "stdout",
     "output_type": "stream",
     "text": [
      "  10133 flight from ORD to MSP\n",
      "  10157 flight from LAS to LAX\n",
      "  10298 flight from PHX to LAS\n",
      "  10344 flight from LGA to ORD\n",
      "  10475 flight from HOU to DAL\n",
      "  10559 flight from LAX to LAS\n",
      "  12938 flight from PHX to LAX\n",
      "  13121 flight from LAX to PHX\n",
      "  25779 flight from LAX to SFO\n",
      "  26134 flight from SFO to LAX\n"
     ]
    }
   ],
   "source": [
    "%%bash\n",
    "# awk -F, '{print \"flights from \"$17\" to \"$18;}'\n",
    "\n",
    "cat /anvil/projects/tdm/data/flights/subset/1990.csv | awk -F, '{print \"flight from \"$17\" to \"$18;}' | sort | uniq -c | sort -n | tail"
   ]
  },
  {
   "cell_type": "markdown",
   "id": "9fbf00fb-2418-460f-ae94-2a32b0c28952",
   "metadata": {},
   "source": [
    "Markdown notes and sentences and analysis written here."
   ]
  },
  {
   "cell_type": "markdown",
   "id": "f76442d6-d02e-4f26-b9d6-c3183e1d6929",
   "metadata": {},
   "source": [
    "## Pledge\n",
    "\n",
    "By submitting this work I hereby pledge that this is my own, personal work. I've acknowledged in the designated place at the top of this file all sources that I used to complete said work, including but not limited to: online resources, books, and electronic communications. I've noted all collaboration with fellow students and/or TA's. I did not copy or plagiarize another's work.\n",
    "\n",
    "> As a Boilermaker pursuing academic excellence, I pledge to be honest and true in all that I do. Accountable together – We are Purdue."
   ]
  }
 ],
 "metadata": {
  "kernelspec": {
   "display_name": "seminar",
   "language": "python",
   "name": "python3"
  },
  "language_info": {
   "codemirror_mode": {
    "name": "ipython",
    "version": 3
   },
   "file_extension": ".py",
   "mimetype": "text/x-python",
   "name": "python",
   "nbconvert_exporter": "python",
   "pygments_lexer": "ipython3",
   "version": "3.11.5"
  }
 },
 "nbformat": 4,
 "nbformat_minor": 5
}
