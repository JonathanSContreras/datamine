{
 "cells": [
  {
   "cell_type": "markdown",
   "id": "be02a957-7133-4d02-818e-fedeb3cecb05",
   "metadata": {},
   "source": [
    "# Project 4 -- Jonathan Contreras"
   ]
  },
  {
   "cell_type": "markdown",
   "id": "a1228853-dd19-4ab2-89e0-0394d7d72de3",
   "metadata": {},
   "source": [
    "**TA Help:**\n",
    "    \n",
    "**Collaboration:** "
   ]
  },
  {
   "cell_type": "markdown",
   "id": "6180e742-8e39-4698-98ff-5b00c8cf8ea0",
   "metadata": {},
   "source": [
    "## Question 1"
   ]
  },
  {
   "cell_type": "code",
   "execution_count": 1,
   "id": "05fa48b7-e310-41f3-a9b0-8af88173c8ed",
   "metadata": {},
   "outputs": [],
   "source": [
    "%%bash\n",
    "# extracting all flight data that have the origin or destination at the Indianapolis airport into a indyflights.csv file\n",
    "grep \"IND\" /anvil/projects/tdm/data/flights/subset/[12]*.csv >$HOME/indyflights.csv"
   ]
  },
  {
   "cell_type": "code",
   "execution_count": 2,
   "id": "e13ecbe4-16df-44fd-9e07-0a7d2cf4620f",
   "metadata": {},
   "outputs": [
    {
     "name": "stdout",
     "output_type": "stream",
     "text": [
      "  36350 MSP,IND\n",
      "  36523 IND,DFW\n",
      "  48922 ATL,IND\n",
      "  48975 IND,ATL\n",
      "  53331 STL,IND\n",
      "  53789 DTW,IND\n",
      "  54186 IND,STL\n",
      "  55974 IND,DTW\n",
      "  76554 ORD,IND\n",
      "  77720 IND,ORD\n"
     ]
    }
   ],
   "source": [
    "%%bash\n",
    "# extracting data contained in columns 17 and 18, sorting the data, counting unique data, sorting it numerically, and getting the most\n",
    "# popular data.\n",
    "cat $HOME/indyflights.csv | cut -d, -f17,18 | sort | uniq -c | sort -n | tail -10"
   ]
  },
  {
   "cell_type": "markdown",
   "id": "b456e57c-4a12-464b-999a-ef2df5af80c1",
   "metadata": {},
   "source": [
    "Markdown notes and sentences and analysis written here."
   ]
  },
  {
   "cell_type": "markdown",
   "id": "fc601975-35ed-4680-a4e1-0273ee3cc047",
   "metadata": {},
   "source": [
    "## Question 2"
   ]
  },
  {
   "cell_type": "code",
   "execution_count": 3,
   "id": "a16336a1-1ef0-41e8-bc7c-49387db27497",
   "metadata": {},
   "outputs": [],
   "source": [
    "%%bash\n",
    "# extracting only the data with EAST stores and saving it withing a grocerydata.csv file\n",
    "grep \"EAST\" /anvil/projects/tdm/data/8451/The_Complete_Journey_2_Master/5000_transactions.csv >$HOME/grocerydata.csv "
   ]
  },
  {
   "cell_type": "code",
   "execution_count": 4,
   "id": "d540cfc9-031a-46c4-ae3b-2c4a1596a72c",
   "metadata": {},
   "outputs": [
    {
     "name": "stdout",
     "output_type": "stream",
     "text": [
      "103041                  ,4525            ,26-DEC-17,3793066                     ,      2.49,         1,EAST   ,       104,2017\n",
      "103065                  ,3768            ,27-DEC-17,2970080                     ,      2.99,         1,EAST   ,       104,2017\n",
      "103072                  ,0193            ,27-DEC-17,0639663                     ,      2.99,         1,EAST   ,       104,2017\n",
      "103072                  ,1539            ,27-DEC-17,3737283                     ,         1,         1,EAST   ,       104,2017\n",
      "103137                  ,1507            ,29-DEC-17,0089283                     ,      4.69,         1,EAST   ,       104,2017\n",
      "103159                  ,2332            ,29-DEC-17,0076870                     ,      2.14,         2,EAST   ,       104,2017\n",
      "103334                  ,3734            ,28-DEC-17,4750235                     ,      6.87,         3,EAST   ,       104,2017\n",
      "103372                  ,0006            ,29-DEC-17,6507918                     ,      3.99,         1,EAST   ,       104,2017\n",
      "103402                  ,1363            ,28-DEC-17,0099994                     ,         1,         1,EAST   ,       104,2017\n",
      "103414                  ,1146            ,28-DEC-17,5536877                     ,        .5,         1,EAST   ,       104,2017\n"
     ]
    }
   ],
   "source": [
    "%%bash\n",
    "# trying to figure out which column the date is in\n",
    "cat $HOME/grocerydata.csv | tail"
   ]
  },
  {
   "cell_type": "code",
   "execution_count": 5,
   "id": "1b9258cf-580b-4386-86f8-112cc48820c7",
   "metadata": {},
   "outputs": [
    {
     "name": "stdout",
     "output_type": "stream",
     "text": [
      "   7362 26-MAR-17\n",
      "   7414 05-FEB-17\n",
      "   7420 08-JAN-17\n",
      "   7451 17-APR-16\n",
      "   7496 03-APR-16\n",
      "   7650 15-APR-17\n",
      "   7804 22-DEC-17\n",
      "   7953 20-MAR-16\n",
      "   8730 23-DEC-16\n",
      "   8889 23-DEC-17\n"
     ]
    }
   ],
   "source": [
    "%%bash\n",
    "# extracting the date column, sorting it, counting unique data, sorting it numerically, getting the 10 most popular days\n",
    "cat $HOME/grocerydata.csv | cut -d, -f3 | sort | uniq -c | sort -n | tail -10"
   ]
  },
  {
   "cell_type": "markdown",
   "id": "14dc22d4-ddc3-41cc-a91a-cb0025bc0c80",
   "metadata": {},
   "source": [
    "Markdown notes and sentences and analysis written here."
   ]
  },
  {
   "cell_type": "markdown",
   "id": "8e586edd-ff26-4ce2-8f6b-2424b26f2929",
   "metadata": {},
   "source": [
    "## Question 3"
   ]
  },
  {
   "cell_type": "code",
   "execution_count": 6,
   "id": "bbe0f40d-9655-4653-9ca8-886bdb61cb91",
   "metadata": {},
   "outputs": [
    {
     "name": "stdout",
     "output_type": "stream",
     "text": [
      "MCKENNON, K R\n",
      "OREFFICE, P\n",
      "DOWNEY, J\n",
      "BLAIR, E\n",
      "BLANCHARD, JOHN A\n",
      "CRAMER, JOHN H\n",
      "MCHUGH, KEVIN\n",
      "NOHA, EDWARD J\n",
      "RYCROFT, DONALD C\n",
      "VANDERSLICE, WILLIAM D\n"
     ]
    }
   ],
   "source": [
    "%%bash\n",
    "# extracting the head of the data in the 8th column\n",
    "cat /anvil/projects/tdm/data/election/itcont*.txt | cut -d'|' -f8 | head"
   ]
  },
  {
   "cell_type": "code",
   "execution_count": 7,
   "id": "567d9dae-aa0a-43d5-8fdf-bba5976a73e0",
   "metadata": {},
   "outputs": [
    {
     "name": "stdout",
     "output_type": "stream",
     "text": [
      "MCKENNON\n",
      "OREFFICE\n",
      "DOWNEY\n",
      "BLAIR\n",
      "BLANCHARD\n",
      "CRAMER\n",
      "MCHUGH\n",
      "NOHA\n",
      "RYCROFT\n",
      "VANDERSLICE\n"
     ]
    }
   ],
   "source": [
    "%%bash\n",
    "# extracting the head of the data now in the 1st and 8th column\n",
    "cat /anvil/projects/tdm/data/election/itcont*.txt | cut -d'|' -f8 | cut -d, -f1 | head"
   ]
  },
  {
   "cell_type": "code",
   "execution_count": 8,
   "id": "79b647b2-c4f5-43d3-82a5-a920011ed0aa",
   "metadata": {},
   "outputs": [
    {
     "name": "stdout",
     "output_type": "stream",
     "text": [
      " 496200 TAYLOR\n",
      " 603308 WILSON\n",
      " 695695 ANDERSON\n",
      " 720429 DAVIS\n",
      " 760715 WILLIAMS\n",
      " 803227 JONES\n",
      " 893166 BROWN\n",
      " 899916 MILLER\n",
      "1225266 JOHNSON\n",
      "1654933 SMITH\n"
     ]
    }
   ],
   "source": [
    "%%bash\n",
    "# extracting the tail of the data in the 1st and 8th column, sorting it, counting unique data, sorting numerically\n",
    "cat /anvil/projects/tdm/data/election/itcont*.txt | cut -d'|' -f8 | cut -d, -f1 | sort | uniq -c | sort -n | tail -10"
   ]
  },
  {
   "cell_type": "markdown",
   "id": "47c6229f-35f7-400c-8366-c442baa5cf47",
   "metadata": {},
   "source": [
    "Markdown notes and sentences and analysis written here."
   ]
  },
  {
   "cell_type": "markdown",
   "id": "da22f29c-d245-4d2b-9fc1-ca14cb6087d9",
   "metadata": {},
   "source": [
    "## Question 4"
   ]
  },
  {
   "cell_type": "code",
   "execution_count": 9,
   "id": "8cffc767-d1c8-4d64-b7dc-f0d2ee8a80d1",
   "metadata": {},
   "outputs": [
    {
     "name": "stdout",
     "output_type": "stream",
     "text": [
      "id,name,city,state,country,notes,types\n",
      "19730,Brouwerij Danny,Erpe-Mere,,BE,No notes at this time.,Brewery\n",
      "32541,Coachella Valley Brewing Co,Thousand Palms,CA,US,No notes at this time.,\"Brewery, Bar, Beer-to-go\"\n",
      "44736,Beef 'O' Brady's,Plant City,FL,US,No notes at this time.,\"Bar, Eatery\"\n",
      "23372,Broadway Wine Merchant,Oklahoma City,OK,US,No notes at this time.,Store\n",
      "35328,Brighton Beer Dispensary (DUPLICATE),Brighton,GB2,GB,Duplicate of https://www.beeradvocate.com/beer/profile/36929,\"Bar, Eatery\"\n",
      "31561,Teddy's Tavern,Seattle,WA,US,No notes at this time.,\"Bar, Beer-to-go\"\n",
      "35975,Modus Operandi Brewing Co.,Mona Vale,,AU,No notes at this time.,\"Brewery, Bar, Eatery, Beer-to-go\"\n",
      "5618,Hops! Beer Restaurant & Pizza,Riccione (RN),,IT,No notes at this time.,\"Brewery, Bar, Eatery\"\n",
      "30916,Kelly's Cellars,Belfast,GB5,GB,No notes at this time.,Bar\n"
     ]
    }
   ],
   "source": [
    "%%bash\n",
    "# extracting the head of the breweries data\n",
    "cat /anvil/projects/tdm/data/beer/breweries.csv | head"
   ]
  },
  {
   "cell_type": "code",
   "execution_count": 10,
   "id": "c22ee939-5396-4b25-848b-be9a770b6732",
   "metadata": {},
   "outputs": [
    {
     "name": "stdout",
     "output_type": "stream",
     "text": [
      "    227 Minneapolis,MN\n",
      "    238 Denver,CO\n",
      "    274 Seattle,WA\n",
      "    275 Brooklyn,NY\n",
      "    290 Portland,OR\n",
      "    302 London,GB2\n",
      "    306 San Diego,CA\n",
      "    427 New York,NY\n",
      "    499 Philadelphia,PA\n",
      "    512 Chicago,IL\n"
     ]
    }
   ],
   "source": [
    "%%bash\n",
    "# extracting the tail of the 3rd and 4th columns of breweries data\n",
    "# then sorting the data, counting unique data, and sorting numerically\n",
    "cat /anvil/projects/tdm/data/beer/breweries.csv | cut -d, -f3,4 | sort | uniq -c | sort -n | tail -10"
   ]
  },
  {
   "cell_type": "markdown",
   "id": "0d552245-b4d6-474a-9cc9-fa7b8e674d55",
   "metadata": {},
   "source": [
    "Markdown notes and sentences and analysis written here."
   ]
  },
  {
   "cell_type": "markdown",
   "id": "88c9cdac-3e92-498f-83fa-e089bfc44ac8",
   "metadata": {},
   "source": [
    "## Question 5"
   ]
  },
  {
   "cell_type": "code",
   "execution_count": 11,
   "id": "d370d7c9-06db-42b9-b75f-240481a5c491",
   "metadata": {},
   "outputs": [
    {
     "name": "stdout",
     "output_type": "stream",
     "text": [
      "350\n"
     ]
    }
   ],
   "source": [
    "%%bash\n",
    "# extracting the amount of times 'salty' appears in the data. this data is ignoring case-sensitivity\n",
    "# -i: ignores case-sensitive data\n",
    "# -c: counts the data\n",
    "grep -i -c \"salty\" /anvil/projects/tdm/data/icecream/combined/reviews.csv "
   ]
  },
  {
   "cell_type": "code",
   "execution_count": 12,
   "id": "12c89447-5d22-42bc-993c-fd91dfc3b340",
   "metadata": {},
   "outputs": [
    {
     "name": "stdout",
     "output_type": "stream",
     "text": [
      "2080\n"
     ]
    }
   ],
   "source": [
    "%%bash\n",
    "# extracting the amount of times 'sweet' appears in the data. this data is ignoring case-sensitivity\n",
    "# -i: ignores case-sensitive data\n",
    "# -c: counts the data\n",
    "grep -i -c \"sweet\" /anvil/projects/tdm/data/icecream/combined/reviews.csv"
   ]
  },
  {
   "cell_type": "code",
   "execution_count": 13,
   "id": "48a7cac9-808a-4f02-88cc-7e795fee7a19",
   "metadata": {},
   "outputs": [
    {
     "name": "stdout",
     "output_type": "stream",
     "text": [
      "4754\n"
     ]
    }
   ],
   "source": [
    "%%bash\n",
    "# extracting the amount of times 'chocolate' appears in the data. this data is making sure only 'chocolate' appears, so it is case-sensitive\n",
    "# -c: counts the data\n",
    "grep -c \"chocolate\" /anvil/projects/tdm/data/icecream/combined/reviews.csv"
   ]
  },
  {
   "cell_type": "code",
   "execution_count": 14,
   "id": "1e4042b4-70eb-4c83-8dd2-23897ef8e288",
   "metadata": {},
   "outputs": [
    {
     "name": "stdout",
     "output_type": "stream",
     "text": [
      "5277\n"
     ]
    }
   ],
   "source": [
    "%%bash\n",
    "# extracting the amount of times 'chocolate' appears in the data. this data is ignoring case-sensitivity\n",
    "# -i: ignores case-sensitive data\n",
    "# -c: counts the data\n",
    "grep -i -c \"chocolate\" /anvil/projects/tdm/data/icecream/combined/reviews.csv"
   ]
  },
  {
   "cell_type": "markdown",
   "id": "9fbf00fb-2418-460f-ae94-2a32b0c28952",
   "metadata": {},
   "source": [
    "4754 lines include the exact pattern \"chocolate\".\n",
    "5277 lines include the pattern \"chocolate\" as a case-insensitive search."
   ]
  },
  {
   "cell_type": "markdown",
   "id": "f76442d6-d02e-4f26-b9d6-c3183e1d6929",
   "metadata": {},
   "source": [
    "## Pledge\n",
    "\n",
    "By submitting this work I hereby pledge that this is my own, personal work. I've acknowledged in the designated place at the top of this file all sources that I used to complete said work, including but not limited to: online resources, books, and electronic communications. I've noted all collaboration with fellow students and/or TA's. I did not copy or plagiarize another's work.\n",
    "\n",
    "> As a Boilermaker pursuing academic excellence, I pledge to be honest and true in all that I do. Accountable together – We are Purdue."
   ]
  }
 ],
 "metadata": {
  "kernelspec": {
   "display_name": "seminar",
   "language": "python",
   "name": "python3"
  },
  "language_info": {
   "codemirror_mode": {
    "name": "ipython",
    "version": 3
   },
   "file_extension": ".py",
   "mimetype": "text/x-python",
   "name": "python",
   "nbconvert_exporter": "python",
   "pygments_lexer": "ipython3",
   "version": "3.11.5"
  }
 },
 "nbformat": 4,
 "nbformat_minor": 5
}
