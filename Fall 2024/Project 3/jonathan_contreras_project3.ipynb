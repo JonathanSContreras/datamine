{
 "cells": [
  {
   "cell_type": "markdown",
   "id": "be02a957-7133-4d02-818e-fedeb3cecb05",
   "metadata": {},
   "source": [
    "# Project 3-- Jonathan Contreras"
   ]
  },
  {
   "cell_type": "markdown",
   "id": "a1228853-dd19-4ab2-89e0-0394d7d72de3",
   "metadata": {},
   "source": [
    "**TA Help:**\n",
    "    \n",
    "**Collaboration:** "
   ]
  },
  {
   "cell_type": "markdown",
   "id": "6180e742-8e39-4698-98ff-5b00c8cf8ea0",
   "metadata": {},
   "source": [
    "## Question 1"
   ]
  },
  {
   "cell_type": "code",
   "execution_count": 1,
   "id": "cc931ce3-f660-4294-be3d-92783871f566",
   "metadata": {},
   "outputs": [
    {
     "name": "stdout",
     "output_type": "stream",
     "text": [
      "Year,Month,DayofMonth,DayOfWeek,DepTime,CRSDepTime,ArrTime,CRSArrTime,UniqueCarrier,FlightNum,TailNum,ActualElapsedTime,CRSElapsedTime,AirTime,ArrDelay,DepDelay,Origin,Dest,Distance,TaxiIn,TaxiOut,Cancelled,CancellationCode,Diverted,CarrierDelay,WeatherDelay,NASDelay,SecurityDelay,LateAircraftDelay\n",
      "1987,10,14,3,741,730,912,849,PS,1451,NA,91,79,NA,23,11,SAN,SFO,447,NA,NA,0,NA,0,NA,NA,NA,NA,NA\n",
      "1987,10,15,4,729,730,903,849,PS,1451,NA,94,79,NA,14,-1,SAN,SFO,447,NA,NA,0,NA,0,NA,NA,NA,NA,NA\n",
      "1987,10,17,6,741,730,918,849,PS,1451,NA,97,79,NA,29,11,SAN,SFO,447,NA,NA,0,NA,0,NA,NA,NA,NA,NA\n",
      "1987,10,18,7,729,730,847,849,PS,1451,NA,78,79,NA,-2,-1,SAN,SFO,447,NA,NA,0,NA,0,NA,NA,NA,NA,NA\n",
      "1987,10,19,1,749,730,922,849,PS,1451,NA,93,79,NA,33,19,SAN,SFO,447,NA,NA,0,NA,0,NA,NA,NA,NA,NA\n",
      "1987,10,21,3,728,730,848,849,PS,1451,NA,80,79,NA,-1,-2,SAN,SFO,447,NA,NA,0,NA,0,NA,NA,NA,NA,NA\n",
      "1987,10,22,4,728,730,852,849,PS,1451,NA,84,79,NA,3,-2,SAN,SFO,447,NA,NA,0,NA,0,NA,NA,NA,NA,NA\n",
      "1987,10,23,5,731,730,902,849,PS,1451,NA,91,79,NA,13,1,SAN,SFO,447,NA,NA,0,NA,0,NA,NA,NA,NA,NA\n",
      "1987,10,24,6,744,730,908,849,PS,1451,NA,84,79,NA,19,14,SAN,SFO,447,NA,NA,0,NA,0,NA,NA,NA,NA,NA\n"
     ]
    }
   ],
   "source": [
    "%%bash\n",
    "# printing the head of the data\n",
    "cat /anvil/projects/tdm/data/flights/subset/[12]*.csv | head"
   ]
  },
  {
   "cell_type": "code",
   "execution_count": 2,
   "id": "3621c700-34f9-48f7-8552-ebf5d7eb33b8",
   "metadata": {},
   "outputs": [
    {
     "name": "stdout",
     "output_type": "stream",
     "text": [
      "Origin,Dest\n",
      "SAN,SFO\n",
      "SAN,SFO\n",
      "SAN,SFO\n",
      "SAN,SFO\n",
      "SAN,SFO\n",
      "SAN,SFO\n",
      "SAN,SFO\n",
      "SAN,SFO\n",
      "SAN,SFO\n"
     ]
    }
   ],
   "source": [
    "%%bash\n",
    "# extracting only the 17th and 18th fields which is the Origin and Destination\n",
    "cat /anvil/projects/tdm/data/flights/subset/[12]*.csv | cut -d, -f17,18 | head"
   ]
  },
  {
   "cell_type": "code",
   "execution_count": 3,
   "id": "a514103d-5369-41d2-9d0c-9589722b660d",
   "metadata": {},
   "outputs": [
    {
     "name": "stdout",
     "output_type": "stream",
     "text": [
      "ABE,ALB\n",
      "ABE,ALB\n",
      "ABE,ATL\n",
      "ABE,ATL\n",
      "ABE,ATL\n",
      "ABE,ATL\n",
      "ABE,ATL\n",
      "ABE,ATL\n",
      "ABE,ATL\n",
      "ABE,ATL\n"
     ]
    }
   ],
   "source": [
    "%%bash\n",
    "# sorting the data so the smae flight paths are near eachother\n",
    "cat /anvil/projects/tdm/data/flights/subset/[12]*.csv | cut -d, -f17,18 | sort | head"
   ]
  },
  {
   "cell_type": "code",
   "execution_count": 4,
   "id": "d774df92-1eb4-4d44-9de7-076fc2c0b5b3",
   "metadata": {},
   "outputs": [
    {
     "name": "stdout",
     "output_type": "stream",
     "text": [
      "      2 ABE,ALB\n",
      "  15966 ABE,ATL\n",
      "   1627 ABE,AVP\n",
      "      1 ABE,AZO\n",
      "      1 ABE,BDL\n",
      "      1 ABE,BHM\n",
      "   2559 ABE,BWI\n",
      "   5375 ABE,CLE\n",
      "   6917 ABE,CLT\n",
      "   6732 ABE,CVG\n"
     ]
    }
   ],
   "source": [
    "%%bash\n",
    "# extracting the amount of times that each flight path occurs\n",
    "cat /anvil/projects/tdm/data/flights/subset/[12]*.csv | cut -d, -f17,18 | sort | uniq -c | head"
   ]
  },
  {
   "cell_type": "code",
   "execution_count": 5,
   "id": "773f88a0-c6f9-48b4-9635-fb835988832a",
   "metadata": {},
   "outputs": [
    {
     "name": "stdout",
     "output_type": "stream",
     "text": [
      "      1 ABE,AZO\n",
      "      1 ABE,BDL\n",
      "      1 ABE,BHM\n",
      "      1 ABE,GRR\n",
      "      1 ABE,IND\n",
      "      1 ABE,ROC\n",
      "      1 ABE,SBN\n",
      "      1 ABI,LAX\n",
      "      1 ABI,TYR\n",
      "      1 ABI,VCT\n"
     ]
    }
   ],
   "source": [
    "%%bash\n",
    "# nurmeriacally soring the data\n",
    "cat /anvil/projects/tdm/data/flights/subset/[12]*.csv | cut -d, -f17,18 | sort | uniq -c | sort -n | head"
   ]
  },
  {
   "cell_type": "code",
   "execution_count": 6,
   "id": "49445606-d363-41b4-b479-e319a9a84c01",
   "metadata": {},
   "outputs": [
    {
     "name": "stdout",
     "output_type": "stream",
     "text": [
      " 232467 LAS,PHX\n",
      " 233977 PHX,LAS\n",
      " 242933 MSP,ORD\n",
      " 243470 ORD,MSP\n",
      " 272681 LAX,PHX\n",
      " 273286 PHX,LAX\n",
      " 278653 LAS,LAX\n",
      " 284494 LAX,LAS\n",
      " 328105 LAX,SFO\n",
      " 329370 SFO,LAX\n"
     ]
    }
   ],
   "source": [
    "%%bash\n",
    "# getting the 10 most popular flight paths\n",
    "cat /anvil/projects/tdm/data/flights/subset/[12]*.csv | cut -d, -f17,18 | sort | uniq -c | sort -n | tail"
   ]
  },
  {
   "cell_type": "markdown",
   "id": "b456e57c-4a12-464b-999a-ef2df5af80c1",
   "metadata": {},
   "source": [
    "Markdown notes and sentences and analysis written here."
   ]
  },
  {
   "cell_type": "markdown",
   "id": "fc601975-35ed-4680-a4e1-0273ee3cc047",
   "metadata": {},
   "source": [
    "## Question 2"
   ]
  },
  {
   "cell_type": "code",
   "execution_count": 7,
   "id": "a16336a1-1ef0-41e8-bc7c-49387db27497",
   "metadata": {},
   "outputs": [
    {
     "name": "stdout",
     "output_type": "stream",
     "text": [
      "BASKET_NUM              ,HSHD_NUM        ,PURCHASE_,PRODUCT_NUM                 ,     SPEND,     UNITS,STORE_R,  WEEK_NUM,YEAR\n",
      "000024                  ,1809            ,03-JAN-16,5817389                     ,      -1.5,        -1,SOUTH  ,         1,2016\n",
      "000024                  ,1809            ,03-JAN-16,5829886                     ,      -1.5,        -1,SOUTH  ,         1,2016\n",
      "000034                  ,1253            ,03-JAN-16,0539501                     ,      2.19,         1,EAST   ,         1,2016\n",
      "000060                  ,1595            ,03-JAN-16,5260099                     ,       .99,         1,WEST   ,         1,2016\n",
      "000060                  ,1595            ,03-JAN-16,4535660                     ,       2.5,         2,WEST   ,         1,2016\n",
      "000168                  ,3393            ,03-JAN-16,5602916                     ,       4.5,         1,SOUTH  ,         1,2016\n",
      "000199                  ,4558            ,03-JAN-16,5683532                     ,      3.49,         1,SOUTH  ,         1,2016\n",
      "000252                  ,3491            ,03-JAN-16,0980450                     ,      2.79,         1,SOUTH  ,         1,2016\n",
      "000355                  ,4733            ,03-JAN-16,0735993                     ,         1,         1,EAST   ,         1,2016\n"
     ]
    }
   ],
   "source": [
    "%%bash\n",
    "cat /anvil/projects/tdm/data/8451/The_Complete_Journey_2_Master/5000_transactions.csv | head"
   ]
  },
  {
   "cell_type": "code",
   "execution_count": 8,
   "id": "0450fa43-a9a2-49bd-acfa-191c1fa5f735",
   "metadata": {},
   "outputs": [
    {
     "name": "stdout",
     "output_type": "stream",
     "text": [
      "STORE_R\n",
      "SOUTH  \n",
      "SOUTH  \n",
      "EAST   \n",
      "WEST   \n",
      "WEST   \n",
      "SOUTH  \n",
      "SOUTH  \n",
      "SOUTH  \n",
      "EAST   \n"
     ]
    }
   ],
   "source": [
    "%%bash\n",
    "# extracting only the \"STORE_R\" values\n",
    "cat /anvil/projects/tdm/data/8451/The_Complete_Journey_2_Master/5000_transactions.csv | cut -d, -f7 | head"
   ]
  },
  {
   "cell_type": "code",
   "execution_count": 9,
   "id": "047bbee7-37d6-47c8-8be4-258b799150b2",
   "metadata": {},
   "outputs": [
    {
     "name": "stdout",
     "output_type": "stream",
     "text": [
      "CENTRAL\n",
      "CENTRAL\n",
      "CENTRAL\n",
      "CENTRAL\n",
      "CENTRAL\n",
      "CENTRAL\n",
      "CENTRAL\n",
      "CENTRAL\n",
      "CENTRAL\n",
      "CENTRAL\n"
     ]
    }
   ],
   "source": [
    "%%bash\n",
    "# soring the data\n",
    "cat /anvil/projects/tdm/data/8451/The_Complete_Journey_2_Master/5000_transactions.csv | cut -d, -f7 | sort | head"
   ]
  },
  {
   "cell_type": "code",
   "execution_count": 10,
   "id": "1d40c98b-6740-4eb7-a63c-eaf79f0919e3",
   "metadata": {},
   "outputs": [
    {
     "name": "stdout",
     "output_type": "stream",
     "text": [
      "2463343 CENTRAL\n",
      "3263360 EAST   \n",
      "2221500 SOUTH  \n",
      "      1 STORE_R\n",
      "2677350 WEST   \n"
     ]
    }
   ],
   "source": [
    "%%bash\n",
    "# getting how many times each \"STORE_R\" value occurs\n",
    "cat /anvil/projects/tdm/data/8451/The_Complete_Journey_2_Master/5000_transactions.csv | cut -d, -f7 | sort | uniq -c | head"
   ]
  },
  {
   "cell_type": "code",
   "execution_count": 11,
   "id": "e13a2bb0-8670-4334-9abc-5cd435470ea0",
   "metadata": {},
   "outputs": [
    {
     "name": "stdout",
     "output_type": "stream",
     "text": [
      "      1 STORE_R\n",
      "2221500 SOUTH  \n",
      "2463343 CENTRAL\n",
      "2677350 WEST   \n",
      "3263360 EAST   \n"
     ]
    }
   ],
   "source": [
    "%%bash\n",
    "# numerically sorting the data\n",
    "cat /anvil/projects/tdm/data/8451/The_Complete_Journey_2_Master/5000_transactions.csv | cut -d, -f7 | sort | uniq -c | sort -n"
   ]
  },
  {
   "cell_type": "markdown",
   "id": "14dc22d4-ddc3-41cc-a91a-cb0025bc0c80",
   "metadata": {},
   "source": [
    "Markdown notes and sentences and analysis written here."
   ]
  },
  {
   "cell_type": "markdown",
   "id": "8e586edd-ff26-4ce2-8f6b-2424b26f2929",
   "metadata": {},
   "source": [
    "## Question 3"
   ]
  },
  {
   "cell_type": "code",
   "execution_count": 21,
   "id": "a7fbcd92-696d-481c-8577-ab50a5d45504",
   "metadata": {},
   "outputs": [
    {
     "name": "stdout",
     "output_type": "stream",
     "text": [
      "C00078279|A|M11|P|80031492155|22Y||MCKENNON, K R|MIDLAND|MI|00000|||10031979|400|||||CONTRIBUTION REF TO INDIVIDUAL|3062020110011466469\n"
     ]
    }
   ],
   "source": [
    "%%bash\n",
    "head -n1  /anvil/projects/tdm/data/election/itcont1980.txt"
   ]
  },
  {
   "cell_type": "code",
   "execution_count": 23,
   "id": "bbe0f40d-9655-4653-9ca8-886bdb61cb91",
   "metadata": {},
   "outputs": [
    {
     "name": "stdout",
     "output_type": "stream",
     "text": [
      "6414418 NJ\n",
      "6893225 MA\n",
      "7850229 VA\n",
      "7859583 WA\n",
      "8102618 IL\n",
      "8652168 PA\n",
      "15105067 FL\n",
      "15699795 NY\n",
      "17604371 TX\n",
      "35997458 CA\n"
     ]
    }
   ],
   "source": [
    "%%bash\n",
    "# The 10 states in which the largest number of donations have been made (and the number of donations from each of these states)\n",
    "cat /anvil/projects/tdm/data/election/itcont*.txt | cut -d'|' -f10 | sort | uniq -c | sort -n|  tail"
   ]
  },
  {
   "cell_type": "markdown",
   "id": "47c6229f-35f7-400c-8366-c442baa5cf47",
   "metadata": {},
   "source": [
    "Markdown notes and sentences and analysis written here."
   ]
  },
  {
   "cell_type": "markdown",
   "id": "da22f29c-d245-4d2b-9fc1-ca14cb6087d9",
   "metadata": {},
   "source": [
    "## Question 4"
   ]
  },
  {
   "cell_type": "code",
   "execution_count": 24,
   "id": "8cffc767-d1c8-4d64-b7dc-f0d2ee8a80d1",
   "metadata": {},
   "outputs": [
    {
     "name": "stdout",
     "output_type": "stream",
     "text": [
      "1370873 PHILADELPHIA|PA\n",
      "1388345 BROOKLYN|NY\n",
      "1424088 AUSTIN|TX\n",
      "1716549 SEATTLE|WA\n",
      "1941608 SAN FRANCISCO|CA\n",
      "1979928 CHICAGO|IL\n",
      "2274983 LOS ANGELES|CA\n",
      "2332616 HOUSTON|TX\n",
      "2920968 WASHINGTON|DC\n",
      "5079441 NEW YORK|NY\n"
     ]
    }
   ],
   "source": [
    "%%bash\n",
    "\n",
    "# the 10 city-and-state pairs in which the largest number of donations have been made \n",
    "# (and the number of donations from each of these city-and-state pairs).\n",
    "cat /anvil/projects/tdm/data/election/itcont*.txt | cut -d'|' -f9,10 | sort | uniq -c | sort -n|  tail"
   ]
  },
  {
   "cell_type": "markdown",
   "id": "0d552245-b4d6-474a-9cc9-fa7b8e674d55",
   "metadata": {},
   "source": [
    "Markdown notes and sentences and analysis written here."
   ]
  },
  {
   "cell_type": "markdown",
   "id": "88c9cdac-3e92-498f-83fa-e089bfc44ac8",
   "metadata": {},
   "source": [
    "## Question 5"
   ]
  },
  {
   "cell_type": "code",
   "execution_count": 28,
   "id": "5c2d06d9-37d1-4520-8343-a9824b0537ef",
   "metadata": {},
   "outputs": [
    {
     "name": "stdout",
     "output_type": "stream",
     "text": [
      "Year,Month,DayofMonth,DayOfWeek,DepTime,CRSDepTime,ArrTime,CRSArrTime,UniqueCarrier,FlightNum,TailNum,ActualElapsedTime,CRSElapsedTime,AirTime,ArrDelay,DepDelay,Origin,Dest,Distance,TaxiIn,TaxiOut,Cancelled,CancellationCode,Diverted,CarrierDelay,WeatherDelay,NASDelay,SecurityDelay,LateAircraftDelay\n"
     ]
    }
   ],
   "source": [
    "%%bash\n",
    "head -n1 /anvil/projects/tdm/data/flights/subset/1987.csv"
   ]
  },
  {
   "cell_type": "code",
   "execution_count": 31,
   "id": "d370d7c9-06db-42b9-b75f-240481a5c491",
   "metadata": {},
   "outputs": [
    {
     "name": "stdout",
     "output_type": "stream",
     "text": [
      "  21728 2007,8,3\n",
      "  21728 2007,8,9\n",
      "  21731 2007,7,26\n",
      "  21733 2007,7,19\n",
      "  21737 2007,7,13\n",
      "  21740 2007,7,23\n",
      "  21744 2007,8,10\n",
      "  21748 2007,6,29\n",
      "  21764 2007,7,20\n",
      "  21780 2007,7,27\n"
     ]
    }
   ],
   "source": [
    "%%bash\n",
    "# the 10 dates on which the most flights occurred (and the number of flights on each of those 10 dates).\n",
    "cat /anvil/projects/tdm/data/flights/subset/[12]*.csv | cut -d, -f1,2,3| sort | uniq -c | sort -n | tail"
   ]
  },
  {
   "cell_type": "markdown",
   "id": "9fbf00fb-2418-460f-ae94-2a32b0c28952",
   "metadata": {},
   "source": [
    "Markdown notes and sentences and analysis written here."
   ]
  },
  {
   "cell_type": "markdown",
   "id": "f76442d6-d02e-4f26-b9d6-c3183e1d6929",
   "metadata": {},
   "source": [
    "## Pledge\n",
    "\n",
    "By submitting this work I hereby pledge that this is my own, personal work. I've acknowledged in the designated place at the top of this file all sources that I used to complete said work, including but not limited to: online resources, books, and electronic communications. I've noted all collaboration with fellow students and/or TA's. I did not copy or plagiarize another's work.\n",
    "\n",
    "> As a Boilermaker pursuing academic excellence, I pledge to be honest and true in all that I do. Accountable together – We are Purdue."
   ]
  }
 ],
 "metadata": {
  "kernelspec": {
   "display_name": "seminar",
   "language": "python",
   "name": "python3"
  },
  "language_info": {
   "codemirror_mode": {
    "name": "ipython",
    "version": 3
   },
   "file_extension": ".py",
   "mimetype": "text/x-python",
   "name": "python",
   "nbconvert_exporter": "python",
   "pygments_lexer": "ipython3",
   "version": "3.11.5"
  }
 },
 "nbformat": 4,
 "nbformat_minor": 5
}
