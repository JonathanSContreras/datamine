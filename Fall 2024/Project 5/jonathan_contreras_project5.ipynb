{
 "cells": [
  {
   "cell_type": "markdown",
   "id": "be02a957-7133-4d02-818e-fedeb3cecb05",
   "metadata": {},
   "source": [
    "# Project 5 -- Jonathan Contreras"
   ]
  },
  {
   "cell_type": "markdown",
   "id": "a1228853-dd19-4ab2-89e0-0394d7d72de3",
   "metadata": {},
   "source": [
    "**TA Help:**\n",
    "    \n",
    "**Collaboration:** "
   ]
  },
  {
   "cell_type": "markdown",
   "id": "6180e742-8e39-4698-98ff-5b00c8cf8ea0",
   "metadata": {},
   "source": [
    "## Question 1"
   ]
  },
  {
   "cell_type": "code",
   "execution_count": 1,
   "id": "49445606-d363-41b4-b479-e319a9a84c01",
   "metadata": {},
   "outputs": [
    {
     "name": "stdout",
     "output_type": "stream",
     "text": [
      "     22 UniqueCarrier\n",
      "  70622 ML (1)\n",
      "  83617 PS\n",
      " 154381 AQ\n",
      " 208420 TZ\n",
      " 230824 HA\n",
      " 271876 F9\n",
      " 316167 PA (1)\n",
      " 347210 9E\n",
      " 682728 B6\n",
      " 684812 YV\n",
      " 693047 DH\n",
      " 873957 PI\n",
      " 919785 EA\n",
      "1090310 FL\n",
      "1338503 OH\n",
      "1508980 EV\n",
      "2114556 XE\n",
      "2718878 OO\n",
      "2776804 AS\n",
      "3632062 MQ\n",
      "3636682 HP\n",
      "3757747 TW\n",
      "7950035 CO\n",
      "10067774 NW\n",
      "13004338 UA\n",
      "13775480 US\n",
      "14584281 AA\n",
      "15173234 WN\n",
      "16247348 DL\n"
     ]
    }
   ],
   "source": [
    "%%bash\n",
    "# part a) extracting the data in the 9th column (UniqueCarrier), sorting it, counting unique data, and sorting it numerically\n",
    "cat /anvil/projects/tdm/data/flights/subset/[12]*.csv | cut -d, -f9 | sort | uniq -c | sort -n"
   ]
  },
  {
   "cell_type": "code",
   "execution_count": 2,
   "id": "d63c2aaa-292b-45d9-975d-572ee6ca0a4f",
   "metadata": {},
   "outputs": [
    {
     "name": "stdout",
     "output_type": "stream",
     "text": [
      "12734\n"
     ]
    }
   ],
   "source": [
    "%%bash\n",
    "# part b) extracting only the number of distinct data in the 11th column. wc -l gets the line count of the list.\n",
    "cat /anvil/projects/tdm/data/flights/subset/[12]*.csv | cut -d, -f11 | sort |uniq | wc -l"
   ]
  },
  {
   "cell_type": "markdown",
   "id": "b456e57c-4a12-464b-999a-ef2df5af80c1",
   "metadata": {},
   "source": [
    "Markdown notes and sentences and analysis written here."
   ]
  },
  {
   "cell_type": "markdown",
   "id": "fc601975-35ed-4680-a4e1-0273ee3cc047",
   "metadata": {},
   "source": [
    "## Question 2"
   ]
  },
  {
   "cell_type": "code",
   "execution_count": 3,
   "id": "a16336a1-1ef0-41e8-bc7c-49387db27497",
   "metadata": {},
   "outputs": [
    {
     "name": "stdout",
     "output_type": "stream",
     "text": [
      "BASKET_NUM              ,HSHD_NUM        ,PURCHASE_,PRODUCT_NUM                 ,     SPEND,     UNITS,STORE_R,  WEEK_NUM,YEAR\n",
      "000024                  ,1809            ,03-JAN-16,5817389                     ,      -1.5,        -1,SOUTH  ,         1,2016\n",
      "000024                  ,1809            ,03-JAN-16,5829886                     ,      -1.5,        -1,SOUTH  ,         1,2016\n",
      "000034                  ,1253            ,03-JAN-16,0539501                     ,      2.19,         1,EAST   ,         1,2016\n",
      "000060                  ,1595            ,03-JAN-16,5260099                     ,       .99,         1,WEST   ,         1,2016\n",
      "000060                  ,1595            ,03-JAN-16,4535660                     ,       2.5,         2,WEST   ,         1,2016\n",
      "000168                  ,3393            ,03-JAN-16,5602916                     ,       4.5,         1,SOUTH  ,         1,2016\n",
      "000199                  ,4558            ,03-JAN-16,5683532                     ,      3.49,         1,SOUTH  ,         1,2016\n",
      "000252                  ,3491            ,03-JAN-16,0980450                     ,      2.79,         1,SOUTH  ,         1,2016\n",
      "000355                  ,4733            ,03-JAN-16,0735993                     ,         1,         1,EAST   ,         1,2016\n"
     ]
    }
   ],
   "source": [
    "%%bash\n",
    "# extracting the head data of the csv\n",
    "cat /anvil/projects/tdm/data/8451/The_Complete_Journey_2_Master/5000_transactions.csv | head"
   ]
  },
  {
   "cell_type": "code",
   "execution_count": 4,
   "id": "b4afd3a7-7395-4399-ad19-35a947efed11",
   "metadata": {},
   "outputs": [
    {
     "name": "stdout",
     "output_type": "stream",
     "text": [
      "151142\n"
     ]
    }
   ],
   "source": [
    "%%bash\n",
    "# extracting only the number of distinct PRODUCT_NUM values\n",
    "cat /anvil/projects/tdm/data/8451/The_Complete_Journey_2_Master/5000_transactions.csv | cut -d, -f4 | sort | uniq | wc -l"
   ]
  },
  {
   "cell_type": "markdown",
   "id": "14dc22d4-ddc3-41cc-a91a-cb0025bc0c80",
   "metadata": {},
   "source": [
    "Markdown notes and sentences and analysis written here."
   ]
  },
  {
   "cell_type": "markdown",
   "id": "8e586edd-ff26-4ce2-8f6b-2424b26f2929",
   "metadata": {},
   "source": [
    "## Question 3"
   ]
  },
  {
   "cell_type": "code",
   "execution_count": 5,
   "id": "bbe0f40d-9655-4653-9ca8-886bdb61cb91",
   "metadata": {},
   "outputs": [
    {
     "name": "stdout",
     "output_type": "stream",
     "text": [
      "C00078279|A|M11|P|80031492155|22Y||MCKENNON, K R|MIDLAND|MI|00000|||10031979|400|||||CONTRIBUTION REF TO INDIVIDUAL|3062020110011466469\n",
      "C00078279|A|M11||79031415137|15||OREFFICE, P|MIDLAND|MI|00000|DOW CHEMICAL CO||10261979|1500||||||3061920110000382948\n",
      "C00078279|A|M11||79031415137|15||DOWNEY, J|MIDLAND|MI|00000|DOW CHEMICAL CO||10261979|300||||||3061920110000382949\n",
      "C00078279|A|M11||79031415137|15||BLAIR, E|MIDLAND|MI|00000|DOW CHEMICAL CO||10261979|1000||||||3061920110000382950\n",
      "C00078287|A|Q1||79031231889|15||BLANCHARD, JOHN A|CHICAGO|IL|60685|||03201979|200||||||3061920110000383914\n",
      "C00078287|A|Q1||79031231889|15||CRAMER, JOHN H|CHICAGO|IL|60685|||02281979|200||||||3061920110000383915\n",
      "C00078287|A|Q1||79031231889|15||MCHUGH, KEVIN|CHICAGO|IL|60685|||03051979|200||||||3061920110000383916\n",
      "C00078287|A|Q1||79031231889|15||NOHA, EDWARD J|CHICAGO|IL|60685|||03121979|300||||||3061920110000383917\n",
      "C00078287|A|Q1||79031231889|15||RYCROFT, DONALD C|CHICAGO|IL|60685|||03191979|200||||||3061920110000383918\n",
      "C00078287|A|Q1||79031231889|15||VANDERSLICE, WILLIAM D|CHICAGO|IL|60685|||02271979|200||||||3061920110000383919\n"
     ]
    }
   ],
   "source": [
    "%%bash \n",
    "# extracting the head of the data\n",
    "cat /anvil/projects/tdm/data/election/itcont*.txt | head"
   ]
  },
  {
   "cell_type": "code",
   "execution_count": 6,
   "id": "16a56146-8f7d-4ab3-ab5d-796d1e62ec01",
   "metadata": {},
   "outputs": [
    {
     "name": "stdout",
     "output_type": "stream",
     "text": [
      "186421390\n"
     ]
    }
   ],
   "source": [
    "%%bash\n",
    "# part a) extracting the number of distinct IDs altogether\n",
    "cat /anvil/projects/tdm/data/election/itcont*.txt | cut -d, -f1 | sort | uniq | wc -l"
   ]
  },
  {
   "cell_type": "code",
   "execution_count": 7,
   "id": "be45685f-76aa-4b6f-b73a-1f99603e1739",
   "metadata": {},
   "outputs": [
    {
     "name": "stdout",
     "output_type": "stream",
     "text": [
      "50696691 C00401224\n"
     ]
    }
   ],
   "source": [
    "%%bash\n",
    "# part b) extracting the cID with the largest donations and how many donations they made.\n",
    "cat /anvil/projects/tdm/data/election/itcont*.txt | cut -d '|' -f1 | sort | uniq -c | sort -nr | head -n 1"
   ]
  },
  {
   "cell_type": "markdown",
   "id": "47c6229f-35f7-400c-8366-c442baa5cf47",
   "metadata": {},
   "source": [
    "The committee ID that received the largest number of donations was C00401224 with 50696691 received donations."
   ]
  },
  {
   "cell_type": "markdown",
   "id": "da22f29c-d245-4d2b-9fc1-ca14cb6087d9",
   "metadata": {},
   "source": [
    "## Question 4"
   ]
  },
  {
   "cell_type": "code",
   "execution_count": 12,
   "id": "8cffc767-d1c8-4d64-b7dc-f0d2ee8a80d1",
   "metadata": {},
   "outputs": [
    {
     "name": "stdout",
     "output_type": "stream",
     "text": [
      "51616,Brokerage Brewing Company,West Lafayette,IN,US,No notes at this time.,\"Brewery, Bar, Beer-to-go\"\n",
      "30699,Village Bottle Shoppe #3,West Lafayette,IN,US,No notes at this time.,Store\n",
      "40401,Harry's Chocolate Shop,West Lafayette,IN,US,No notes at this time.,\"Bar, Eatery\"\n",
      "16648,Knickerbocker Saloon,Lafayette,IN,US,No notes at this time.,\"Bar, Eatery\"\n",
      "52229,Teays River Brewing & Public House,Lafayette,IN,US,No notes at this time.,\"Brewery, Bar, Eatery\"\n",
      "32945,The Pint,West Lafayette,IN,US,No notes at this time.,Bar\n",
      "21952,People's Brewing Company,Lafayette,IN,US,No notes at this time.,\"Brewery, Bar, Beer-to-go\"\n",
      "45760,Walt's Other Pub,Lafayette,IN,US,No notes at this time.,\"Bar, Eatery\"\n",
      "14471,Scotty's Brewhouse,West Lafayette,IN,US,No notes at this time.,\"Bar, Eatery, Beer-to-go\"\n",
      "22332,Nine Irish Brothers,West Lafayette,IN,US,No notes at this time.,\"Bar, Eatery\"\n",
      "14469,Bar Barry Liquors - West,West Lafayette,IN,US,No notes at this time.,Store\n",
      "31172,Jake's Roadhouse & Garage,West Lafayette,IN,US,No notes at this time.,\"Bar, Eatery\"\n",
      "40214,Fresh City Market,West Lafayette,IN,US,No notes at this time.,Store\n",
      "4438,Chumley's Pub,Lafayette,IN,US,No notes at this time.,\"Bar, Eatery\"\n",
      "18836,Village Bottle Shoppe # 1,West Lafayette,IN,US,No notes at this time.,Store\n",
      "17810,The Black Sparrow,Lafayette,IN,US,No notes at this time.,\"Bar, Eatery\"\n",
      "14600,Eastway Liquors,Lafayette,IN,US,No notes at this time.,Store\n",
      "7800,Village Bottle Shoppe #2,West Lafayette,IN,US,No notes at this time.,Store\n",
      "2493,Lafayette Brewing Co.,Lafayette,IN,US,No notes at this time.,\"Brewery, Bar, Eatery\"\n",
      "15073,Hunter's Pub Down Under,Lafayette,IN,US,No notes at this time.,\"Bar, Eatery\"\n",
      "15752,Village Bottle Shoppe #4,West Lafayette,IN,US,No notes at this time.,Store\n",
      "45772,East End Grill,Lafayette,IN,US,No notes at this time.,\"Bar, Eatery\"\n"
     ]
    }
   ],
   "source": [
    "%%bash\n",
    "# trial and errors: \n",
    "# grep -E \"Lafayette|West Lafayette\" /anvil/projects/tdm/data/beer/breweries.csv\n",
    "# grep -E 'Lafayette|West Lafayette' /anvil/projects/tdm/data/beer/breweries.csv\n",
    "# grep -E 'Lafayette|West Lafayette' /anvil/projects/tdm/data/beer/breweries.csv | grep -i 'Indiana'\n",
    "# grep -E \"Lafayette | West Lafayette\" | grep \"IN\" /anvil/projects/tdm/data/beer/breweries.csv | wc -l\n",
    "# cat /anvil/projects/tdm/data/beer/breweries.csv | grep -E \"Lafayette|West Lafayette\" | grep \",IN\" | wc -l \n",
    "\n",
    "# -E allows operations like '|', which represents 'or', to be used\n",
    "cat /anvil/projects/tdm/data/beer/breweries.csv | grep -E \"Lafayette|West Lafayette\" | grep \",IN\""
   ]
  },
  {
   "cell_type": "markdown",
   "id": "0d552245-b4d6-474a-9cc9-fa7b8e674d55",
   "metadata": {},
   "source": [
    "Markdown notes and sentences and analysis written here."
   ]
  },
  {
   "cell_type": "markdown",
   "id": "88c9cdac-3e92-498f-83fa-e089bfc44ac8",
   "metadata": {},
   "source": [
    "## Question 5"
   ]
  },
  {
   "cell_type": "code",
   "execution_count": 13,
   "id": "d370d7c9-06db-42b9-b75f-240481a5c491",
   "metadata": {},
   "outputs": [
    {
     "name": "stdout",
     "output_type": "stream",
     "text": [
      "   5470 like\n",
      "   5494 chocolate\n",
      "   5777 not\n",
      "   5845 love\n",
      "   5928 have\n",
      "   6274 with\n",
      "   6409 that\n",
      "   6751 so\n",
      "   7375 flavor\n",
      "   7495 but\n",
      "   7551 for\n",
      "   9981 was\n",
      "  10329 in\n",
      "  10598 my\n",
      "  12940 cream\n",
      "  15065 it\n",
      "  15300 this\n",
      "  17072 of\n",
      "  17778 to\n",
      "  18481 is\n",
      "  18688 ice\n",
      "  19480 a\n",
      "  26848 and\n",
      "  29090 I\n",
      "  34937 the\n"
     ]
    }
   ],
   "source": [
    "%%bash\n",
    "# extracting the sorted list of 25 words that occurred the most in the file and the number of times that word occurred\n",
    "cat /anvil/projects/tdm/data/icecream/combined/reviews.csv | tr ' ' '\\n' | sort | uniq -c | sort -n | tail -25"
   ]
  },
  {
   "cell_type": "markdown",
   "id": "9fbf00fb-2418-460f-ae94-2a32b0c28952",
   "metadata": {},
   "source": [
    "Markdown notes and sentences and analysis written here."
   ]
  },
  {
   "cell_type": "markdown",
   "id": "f76442d6-d02e-4f26-b9d6-c3183e1d6929",
   "metadata": {},
   "source": [
    "## Pledge\n",
    "\n",
    "By submitting this work I hereby pledge that this is my own, personal work. I've acknowledged in the designated place at the top of this file all sources that I used to complete said work, including but not limited to: online resources, books, and electronic communications. I've noted all collaboration with fellow students and/or TA's. I did not copy or plagiarize another's work.\n",
    "\n",
    "> As a Boilermaker pursuing academic excellence, I pledge to be honest and true in all that I do. Accountable together – We are Purdue."
   ]
  }
 ],
 "metadata": {
  "kernelspec": {
   "display_name": "seminar",
   "language": "python",
   "name": "python3"
  },
  "language_info": {
   "codemirror_mode": {
    "name": "ipython",
    "version": 3
   },
   "file_extension": ".py",
   "mimetype": "text/x-python",
   "name": "python",
   "nbconvert_exporter": "python",
   "pygments_lexer": "ipython3",
   "version": "3.11.5"
  }
 },
 "nbformat": 4,
 "nbformat_minor": 5
}
