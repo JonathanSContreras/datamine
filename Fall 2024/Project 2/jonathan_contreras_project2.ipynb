{
 "cells": [
  {
   "cell_type": "markdown",
   "id": "be02a957-7133-4d02-818e-fedeb3cecb05",
   "metadata": {},
   "source": [
    "# Project 2 -- Jonathan Contreras"
   ]
  },
  {
   "cell_type": "markdown",
   "id": "a1228853-dd19-4ab2-89e0-0394d7d72de3",
   "metadata": {},
   "source": [
    "**TA Help:**\n",
    "    \n",
    "**Collaboration:** "
   ]
  },
  {
   "cell_type": "markdown",
   "id": "6180e742-8e39-4698-98ff-5b00c8cf8ea0",
   "metadata": {},
   "source": [
    "## Question 1"
   ]
  },
  {
   "cell_type": "code",
   "execution_count": 1,
   "id": "49445606-d363-41b4-b479-e319a9a84c01",
   "metadata": {},
   "outputs": [
    {
     "name": "stdout",
     "output_type": "stream",
     "text": [
      "/anvil/scratch/x-jcontreras\n",
      "myoriginsanddestinations.txt\n",
      "mysortedoriginsanddestinations.txt\n",
      "mytemporarydirectory\n",
      "  1   1 300 /anvil/scratch/x-jcontreras/myflights.csv\n"
     ]
    }
   ],
   "source": [
    "%%bash\n",
    "# changing into the SCRATCH directory\n",
    "cd $SCRATCH\n",
    "# ensuring we are in the right directory\n",
    "pwd\n",
    "# creating the myflights.csv file\n",
    "# echo > myflights.csv\n",
    "# making sure we created the file\n",
    "ls\n",
    "\n",
    "\n",
    "# first line of the flights subset, then put it in the myflights.csv file \n",
    "head -n1 /anvil/projects/tdm/data/flights/subset/1987.csv > $SCRATCH/myflights.csv\n",
    "wc $SCRATCH/myflights.csv"
   ]
  },
  {
   "cell_type": "code",
   "execution_count": 2,
   "id": "b0f82a71-5502-42d7-9b0d-9387aa1a7d37",
   "metadata": {},
   "outputs": [],
   "source": [
    "%%bash\n",
    "\n",
    "# putting the contents of data files called 1987.csv through 2008.csv within the myflights.csv file \n",
    "grep -h -v Year /anvil/projects/tdm/data/flights/subset/[12]*.csv >> $SCRATCH/myflights.csv\n",
    "\n",
    "# > - wipes existing data and adds new data\n",
    "# >> - appends new data to existing data"
   ]
  },
  {
   "cell_type": "code",
   "execution_count": 3,
   "id": "a3a66907-3d04-466e-95bc-825f318136a2",
   "metadata": {},
   "outputs": [
    {
     "name": "stdout",
     "output_type": "stream",
     "text": [
      "  118914459   119301248 11569874864 /anvil/scratch/x-jcontreras/myflights.csv\n"
     ]
    }
   ],
   "source": [
    "%%bash\n",
    "# cd $SCRATCH\n",
    "# pwd\n",
    "# ls -la $SCRATCH/myflights.csv\n",
    "\n",
    "# output of the file\n",
    "wc $SCRATCH/myflights.csv"
   ]
  },
  {
   "cell_type": "code",
   "execution_count": 4,
   "id": "88711a9a-a78a-48a0-b83f-b5baf8fa00f5",
   "metadata": {},
   "outputs": [
    {
     "name": "stdout",
     "output_type": "stream",
     "text": [
      "Year,Month,DayofMonth,DayOfWeek,DepTime,CRSDepTime,ArrTime,CRSArrTime,UniqueCarrier,FlightNum,TailNum,ActualElapsedTime,CRSElapsedTime,AirTime,ArrDelay,DepDelay,Origin,Dest,Distance,TaxiIn,TaxiOut,Cancelled,CancellationCode,Diverted,CarrierDelay,WeatherDelay,NASDelay,SecurityDelay,LateAircraftDelay\n",
      "1987,10,14,3,741,730,912,849,PS,1451,NA,91,79,NA,23,11,SAN,SFO,447,NA,NA,0,NA,0,NA,NA,NA,NA,NA\n",
      "1987,10,15,4,729,730,903,849,PS,1451,NA,94,79,NA,14,-1,SAN,SFO,447,NA,NA,0,NA,0,NA,NA,NA,NA,NA\n",
      "1987,10,17,6,741,730,918,849,PS,1451,NA,97,79,NA,29,11,SAN,SFO,447,NA,NA,0,NA,0,NA,NA,NA,NA,NA\n",
      "1987,10,18,7,729,730,847,849,PS,1451,NA,78,79,NA,-2,-1,SAN,SFO,447,NA,NA,0,NA,0,NA,NA,NA,NA,NA\n",
      "1987,10,19,1,749,730,922,849,PS,1451,NA,93,79,NA,33,19,SAN,SFO,447,NA,NA,0,NA,0,NA,NA,NA,NA,NA\n",
      "1987,10,21,3,728,730,848,849,PS,1451,NA,80,79,NA,-1,-2,SAN,SFO,447,NA,NA,0,NA,0,NA,NA,NA,NA,NA\n",
      "1987,10,22,4,728,730,852,849,PS,1451,NA,84,79,NA,3,-2,SAN,SFO,447,NA,NA,0,NA,0,NA,NA,NA,NA,NA\n",
      "1987,10,23,5,731,730,902,849,PS,1451,NA,91,79,NA,13,1,SAN,SFO,447,NA,NA,0,NA,0,NA,NA,NA,NA,NA\n",
      "1987,10,24,6,744,730,908,849,PS,1451,NA,84,79,NA,19,14,SAN,SFO,447,NA,NA,0,NA,0,NA,NA,NA,NA,NA\n"
     ]
    }
   ],
   "source": [
    "%%bash\n",
    "#head of file\n",
    "head $SCRATCH/myflights.csv"
   ]
  },
  {
   "cell_type": "markdown",
   "id": "b456e57c-4a12-464b-999a-ef2df5af80c1",
   "metadata": {},
   "source": [
    "Markdown notes and sentences and analysis written here."
   ]
  },
  {
   "cell_type": "markdown",
   "id": "fc601975-35ed-4680-a4e1-0273ee3cc047",
   "metadata": {},
   "source": [
    "## Question 2"
   ]
  },
  {
   "cell_type": "code",
   "execution_count": 6,
   "id": "a16336a1-1ef0-41e8-bc7c-49387db27497",
   "metadata": {},
   "outputs": [],
   "source": [
    "%%bash\n",
    "# making a new directory called myfolder\n",
    "mkdir $SCRATCH/myfolder\n",
    "cp /anvil/projects/tdm/data/flights/subset/[12]*.csv $SCRATCH/myfolder"
   ]
  },
  {
   "cell_type": "code",
   "execution_count": 7,
   "id": "a30c3d6b-b8ea-4b44-9a72-f299244a42e7",
   "metadata": {},
   "outputs": [
    {
     "name": "stdout",
     "output_type": "stream",
     "text": [
      "1987.csv\n",
      "1988.csv\n",
      "1989.csv\n",
      "1990.csv\n",
      "1991.csv\n",
      "1992.csv\n",
      "1993.csv\n",
      "1994.csv\n",
      "1995.csv\n",
      "1996.csv\n",
      "1997.csv\n",
      "1998.csv\n",
      "1999.csv\n",
      "2000.csv\n",
      "2001.csv\n",
      "2002.csv\n",
      "2003.csv\n",
      "2004.csv\n",
      "2005.csv\n",
      "2006.csv\n",
      "2007.csv\n",
      "2008.csv\n"
     ]
    }
   ],
   "source": [
    "%%bash\n",
    "ls $SCRATCH/myfolder"
   ]
  },
  {
   "cell_type": "code",
   "execution_count": 8,
   "id": "c5bfa2d1-514f-4e86-b372-be251255f6f1",
   "metadata": {},
   "outputs": [],
   "source": [
    "%%bash\n",
    "head -n1 $SCRATCH/myfolder/1987.csv > $SCRATCH/myfolder/myflightsremix.csv"
   ]
  },
  {
   "cell_type": "code",
   "execution_count": 9,
   "id": "81246cee-d9b6-49af-9356-e55fe3923511",
   "metadata": {},
   "outputs": [],
   "source": [
    "%%bash\n",
    "grep -h -v Year $SCRATCH/myfolder/[12]*.csv >> $SCRATCH/myfolder/myflightsremix.csv"
   ]
  },
  {
   "cell_type": "code",
   "execution_count": 10,
   "id": "34fe1379-5d86-4273-9daa-b322c76abd47",
   "metadata": {},
   "outputs": [
    {
     "name": "stdout",
     "output_type": "stream",
     "text": [
      "-rw-r--r-- 1 x-jcontreras x-cis220051 11569874864 Aug 29 21:05 /anvil/scratch/x-jcontreras/myfolder/myflightsremix.csv\n"
     ]
    }
   ],
   "source": [
    "%%bash \n",
    "# checking the file size of the new file we built which is about 11 GB\n",
    "ls -la $SCRATCH/myfolder/myflightsremix.csv"
   ]
  },
  {
   "cell_type": "code",
   "execution_count": 11,
   "id": "c99a1940-61f6-4b6e-87af-d61b1a48dcb1",
   "metadata": {},
   "outputs": [
    {
     "name": "stdout",
     "output_type": "stream",
     "text": [
      "myflights.csv\n",
      "myfolder\n",
      "myoriginsanddestinations.txt\n",
      "mysortedoriginsanddestinations.txt\n",
      "mytemporarydirectory\n"
     ]
    }
   ],
   "source": [
    "%%bash\n",
    "# if we re-run the steps, we will need to delete the myfolder directory using rm -r \"dir-name\"\n",
    "# rm -r $SCRATCH/myfolder\n",
    "ls $SCRATCH"
   ]
  },
  {
   "cell_type": "code",
   "execution_count": 12,
   "id": "5d7d4ce0-4db4-4e7d-8e6f-f1879e4c5ebc",
   "metadata": {},
   "outputs": [],
   "source": [
    "%%bash\n",
    "# cmp will return the first difference detected in the two files, so want nothing returned here\n",
    "cmp $SCRATCH/myflights.csv $SCRATCH/myfolder/myflightsremix.csv"
   ]
  },
  {
   "cell_type": "code",
   "execution_count": 13,
   "id": "0795a9d1-de59-440d-8ed6-04271ec2fa97",
   "metadata": {},
   "outputs": [
    {
     "name": "stdout",
     "output_type": "stream",
     "text": [
      "-rw-r--r-- 1 x-jcontreras x-cis220051 11569874864 Aug 29 21:02 /anvil/scratch/x-jcontreras/myflights.csv\n",
      "-rw-r--r-- 1 x-jcontreras x-cis220051 11569874864 Aug 29 21:05 /anvil/scratch/x-jcontreras/myfolder/myflightsremix.csv\n"
     ]
    }
   ],
   "source": [
    "%%bash\n",
    "ls -la $SCRATCH/myflights.csv $SCRATCH/myfolder/myflightsremix.csv"
   ]
  },
  {
   "cell_type": "code",
   "execution_count": 14,
   "id": "1ac5e763-98db-4a56-a8f6-591fd7842c1a",
   "metadata": {},
   "outputs": [
    {
     "name": "stdout",
     "output_type": "stream",
     "text": [
      "  118914459 /anvil/scratch/x-jcontreras/myflights.csv\n",
      "  118914459 /anvil/scratch/x-jcontreras/myfolder/myflightsremix.csv\n",
      "  237828918 total\n"
     ]
    }
   ],
   "source": [
    "%%bash\n",
    "# looking at the line count\n",
    "wc -l $SCRATCH/myflights.csv $SCRATCH/myfolder/myflightsremix.csv"
   ]
  },
  {
   "cell_type": "code",
   "execution_count": 15,
   "id": "d1e8e6b9-20e4-4017-bd2b-a405929103f2",
   "metadata": {},
   "outputs": [
    {
     "name": "stdout",
     "output_type": "stream",
     "text": [
      "  118914459   119301248 11569874864 /anvil/scratch/x-jcontreras/myflights.csv\n",
      "  118914459   119301248 11569874864 /anvil/scratch/x-jcontreras/myfolder/myflightsremix.csv\n",
      "  237828918   238602496 23139749728 total\n"
     ]
    }
   ],
   "source": [
    "%%bash\n",
    "wc $SCRATCH/myflights.csv $SCRATCH/myfolder/myflightsremix.csv"
   ]
  },
  {
   "cell_type": "code",
   "execution_count": 16,
   "id": "14baafff-2d8f-45d3-b559-94e4b699b9e3",
   "metadata": {},
   "outputs": [
    {
     "name": "stdout",
     "output_type": "stream",
     "text": [
      "-rw-r--r-- 1 x-jcontreras x-cis220051 11569874864 Aug 29 21:02 /anvil/scratch/x-jcontreras/myflights.csv\n"
     ]
    }
   ],
   "source": [
    "ls -la $SCRATCH/myflights.csv"
   ]
  },
  {
   "cell_type": "code",
   "execution_count": 17,
   "id": "5ebc45b3-c34a-4b3b-9708-14a1cb5d8809",
   "metadata": {},
   "outputs": [
    {
     "name": "stdout",
     "output_type": "stream",
     "text": [
      "11569874864\t/anvil/scratch/x-jcontreras/myflights.csv\n"
     ]
    }
   ],
   "source": [
    "%%bash\n",
    "\n",
    "# du -b extracts the number of bytes within the file\n",
    "du -b $SCRATCH/myflights.csv"
   ]
  },
  {
   "cell_type": "code",
   "execution_count": 18,
   "id": "093e6a2f-7ffd-4db8-9642-b6f9fefce6b9",
   "metadata": {},
   "outputs": [
    {
     "name": "stdout",
     "output_type": "stream",
     "text": [
      "11569988kB\t/anvil/scratch/x-jcontreras/myflights.csv\n"
     ]
    }
   ],
   "source": [
    "%%bash\n",
    "# du --block-size=KB extracts the number of kilobytes \n",
    "du --block-size=KB $SCRATCH/myflights.csv"
   ]
  },
  {
   "cell_type": "code",
   "execution_count": 19,
   "id": "aaf00206-e215-4f7e-bf6a-e62dce43b769",
   "metadata": {},
   "outputs": [
    {
     "name": "stdout",
     "output_type": "stream",
     "text": [
      "11570MB\t/anvil/scratch/x-jcontreras/myflights.csv\n"
     ]
    }
   ],
   "source": [
    "%%bash\n",
    "du --block-size=MB $SCRATCH/myflights.csv"
   ]
  },
  {
   "cell_type": "code",
   "execution_count": 20,
   "id": "501b2afb-e3ed-46c7-bdc3-3122d1af0111",
   "metadata": {},
   "outputs": [
    {
     "name": "stdout",
     "output_type": "stream",
     "text": [
      "12GB\t/anvil/scratch/x-jcontreras/myflights.csv\n",
      "12GB\t/anvil/scratch/x-jcontreras/myfolder/myflightsremix.csv\n"
     ]
    }
   ],
   "source": [
    "%%bash\n",
    "du --block-size=GB $SCRATCH/myflights.csv\n",
    "du --block-size=GB $SCRATCH/myfolder/myflightsremix.csv"
   ]
  },
  {
   "cell_type": "code",
   "execution_count": 21,
   "id": "f59c7cc5-c199-4889-9839-ef600db0fb2f",
   "metadata": {},
   "outputs": [
    {
     "name": "stdout",
     "output_type": "stream",
     "text": [
      "total 12229123\n",
      "drwx------    4 x-jcontreras x-cis220051        4096 Aug 29 21:04 .\n",
      "drwxr-xr-x 9188 nobody       nogroup          524288 Aug 29 17:50 ..\n",
      "-rw-r--r--    1 x-jcontreras x-cis220051 11569874864 Aug 29 21:02 myflights.csv\n",
      "drwxr-xr-x    2 x-jcontreras x-cis220051        4096 Aug 29 21:04 myfolder\n",
      "-rw-r--r--    1 x-jcontreras x-cis220051   951315928 Aug 29 20:53 myoriginsanddestinations.txt\n",
      "-rw-r--r--    1 x-jcontreras x-cis220051           0 Aug 29 20:59 mysortedoriginsanddestinations.txt\n",
      "drwxr-xr-x    2 x-jcontreras x-cis220051        4096 Aug 29 20:43 mytemporarydirectory\n"
     ]
    }
   ],
   "source": [
    "%%bash\n",
    "ls -la $SCRATCH"
   ]
  },
  {
   "cell_type": "code",
   "execution_count": 22,
   "id": "79e3b0cb-8321-4ae4-ab5d-19c2065bcace",
   "metadata": {},
   "outputs": [],
   "source": [
    "%%bash\n",
    "rm -r $SCRATCH/myfolder"
   ]
  },
  {
   "cell_type": "code",
   "execution_count": 23,
   "id": "ec8d7a21-0339-4dc6-946c-03445592c68f",
   "metadata": {},
   "outputs": [
    {
     "name": "stdout",
     "output_type": "stream",
     "text": [
      "total 12229122\n",
      "drwx------    3 x-jcontreras x-cis220051        4096 Aug 29 21:09 .\n",
      "drwxr-xr-x 9188 nobody       nogroup          524288 Aug 29 17:50 ..\n",
      "-rw-r--r--    1 x-jcontreras x-cis220051 11569874864 Aug 29 21:02 myflights.csv\n",
      "-rw-r--r--    1 x-jcontreras x-cis220051   951315928 Aug 29 20:53 myoriginsanddestinations.txt\n",
      "-rw-r--r--    1 x-jcontreras x-cis220051           0 Aug 29 20:59 mysortedoriginsanddestinations.txt\n",
      "drwxr-xr-x    2 x-jcontreras x-cis220051        4096 Aug 29 20:43 mytemporarydirectory\n"
     ]
    }
   ],
   "source": [
    "%%bash\n",
    "ls -la $SCRATCH"
   ]
  },
  {
   "cell_type": "code",
   "execution_count": 24,
   "id": "8da28b33-aa93-4bf7-b239-39a446c63abe",
   "metadata": {},
   "outputs": [],
   "source": [
    "%%bash\n",
    "rm -r $SCRATCH/myflights.csv"
   ]
  },
  {
   "cell_type": "code",
   "execution_count": 25,
   "id": "e6f4415a-f121-4948-a816-00d0a833eeb4",
   "metadata": {},
   "outputs": [
    {
     "name": "stdout",
     "output_type": "stream",
     "text": [
      "total 930306\n",
      "drwx------    3 x-jcontreras x-cis220051      4096 Aug 29 21:09 .\n",
      "drwxr-xr-x 9188 nobody       nogroup        524288 Aug 29 17:50 ..\n",
      "-rw-r--r--    1 x-jcontreras x-cis220051 951315928 Aug 29 20:53 myoriginsanddestinations.txt\n",
      "-rw-r--r--    1 x-jcontreras x-cis220051         0 Aug 29 20:59 mysortedoriginsanddestinations.txt\n",
      "drwxr-xr-x    2 x-jcontreras x-cis220051      4096 Aug 29 20:43 mytemporarydirectory\n"
     ]
    }
   ],
   "source": [
    "%%bash\n",
    "ls -la $SCRATCH"
   ]
  },
  {
   "cell_type": "markdown",
   "id": "14dc22d4-ddc3-41cc-a91a-cb0025bc0c80",
   "metadata": {},
   "source": [
    "Markdown notes and sentences and analysis written here."
   ]
  },
  {
   "cell_type": "markdown",
   "id": "8e586edd-ff26-4ce2-8f6b-2424b26f2929",
   "metadata": {},
   "source": [
    "## Question 3"
   ]
  },
  {
   "cell_type": "code",
   "execution_count": 26,
   "id": "bbe0f40d-9655-4653-9ca8-886bdb61cb91",
   "metadata": {},
   "outputs": [],
   "source": [
    "%%bash\n",
    "\n",
    "cp /anvil/projects/tdm/data/election/itcont*.txt $SCRATCH"
   ]
  },
  {
   "cell_type": "code",
   "execution_count": 27,
   "id": "8814a9ba-57da-4328-bd45-eac716be3bff",
   "metadata": {},
   "outputs": [
    {
     "name": "stdout",
     "output_type": "stream",
     "text": [
      "total 42654210\n",
      "drwx------    3 x-jcontreras x-cis220051        4096 Aug 29 21:09 .\n",
      "drwxr-xr-x 9188 nobody       nogroup          524288 Aug 29 17:50 ..\n",
      "-rw-r--r--    1 x-jcontreras x-cis220051    37558800 Aug 29 21:09 itcont1980.txt\n",
      "-rw-r--r--    1 x-jcontreras x-cis220051    20660307 Aug 29 21:09 itcont1982.txt\n",
      "-rw-r--r--    1 x-jcontreras x-cis220051    31137003 Aug 29 21:09 itcont1984.txt\n",
      "-rw-r--r--    1 x-jcontreras x-cis220051    34396801 Aug 29 21:09 itcont1986.txt\n",
      "-rw-r--r--    1 x-jcontreras x-cis220051    53066338 Aug 29 21:09 itcont1988.txt\n",
      "-rw-r--r--    1 x-jcontreras x-cis220051    64648648 Aug 29 21:09 itcont1990.txt\n",
      "-rw-r--r--    1 x-jcontreras x-cis220051   107021489 Aug 29 21:09 itcont1992.txt\n",
      "-rw-r--r--    1 x-jcontreras x-cis220051   101905485 Aug 29 21:09 itcont1994.txt\n",
      "-rw-r--r--    1 x-jcontreras x-cis220051   148872758 Aug 29 21:09 itcont1996.txt\n",
      "-rw-r--r--    1 x-jcontreras x-cis220051   122709219 Aug 29 21:09 itcont1998.txt\n",
      "-rw-r--r--    1 x-jcontreras x-cis220051   208233532 Aug 29 21:09 itcont2000.txt\n",
      "-rw-r--r--    1 x-jcontreras x-cis220051   182489677 Aug 29 21:09 itcont2002.txt\n",
      "-rw-r--r--    1 x-jcontreras x-cis220051   370739587 Aug 29 21:09 itcont2004.txt\n",
      "-rw-r--r--    1 x-jcontreras x-cis220051   287288973 Aug 29 21:09 itcont2006.txt\n",
      "-rw-r--r--    1 x-jcontreras x-cis220051   540150647 Aug 29 21:09 itcont2008.txt\n",
      "-rw-r--r--    1 x-jcontreras x-cis220051   341224288 Aug 29 21:09 itcont2010.txt\n",
      "-rw-r--r--    1 x-jcontreras x-cis220051   549059333 Aug 29 21:09 itcont2012.txt\n",
      "-rw-r--r--    1 x-jcontreras x-cis220051   371551749 Aug 29 21:09 itcont2014.txt\n",
      "-rw-r--r--    1 x-jcontreras x-cis220051  3885957507 Aug 29 21:09 itcont2016.txt\n",
      "-rw-r--r--    1 x-jcontreras x-cis220051  4288951323 Aug 29 21:09 itcont2018.txt\n",
      "-rw-r--r--    1 x-jcontreras x-cis220051 18539680493 Aug 29 21:09 itcont2020.txt\n",
      "-rw-r--r--    1 x-jcontreras x-cis220051 12075177160 Aug 29 21:09 itcont2022.txt\n",
      "-rw-r--r--    1 x-jcontreras x-cis220051   428200453 Aug 29 21:09 itcont2024.txt\n",
      "-rw-r--r--    1 x-jcontreras x-cis220051   951315928 Aug 29 20:53 myoriginsanddestinations.txt\n",
      "-rw-r--r--    1 x-jcontreras x-cis220051           0 Aug 29 20:59 mysortedoriginsanddestinations.txt\n",
      "drwxr-xr-x    2 x-jcontreras x-cis220051        4096 Aug 29 20:43 mytemporarydirectory\n"
     ]
    }
   ],
   "source": [
    "%%bash\n",
    "ls -la $SCRATCH"
   ]
  },
  {
   "cell_type": "code",
   "execution_count": 29,
   "id": "aff817b3-ef60-4115-b230-802e08ee968d",
   "metadata": {},
   "outputs": [],
   "source": [
    "%%bash\n",
    "# mkdir $SCRATCH/mytemporarydirectory"
   ]
  },
  {
   "cell_type": "code",
   "execution_count": 32,
   "id": "429e559d-dec2-4edc-b9d0-f5bc732b1305",
   "metadata": {},
   "outputs": [
    {
     "name": "stderr",
     "output_type": "stream",
     "text": [
      "mv: cannot stat '/anvil/scratch/x-jcontreras/itcont*.txt': No such file or directory\n"
     ]
    },
    {
     "name": "stdout",
     "output_type": "stream",
     "text": [
      "itcont1980.txt\n",
      "itcont1982.txt\n",
      "itcont1984.txt\n",
      "itcont1986.txt\n",
      "itcont1988.txt\n",
      "itcont1990.txt\n",
      "itcont1992.txt\n",
      "itcont1994.txt\n",
      "itcont1996.txt\n",
      "itcont1998.txt\n",
      "itcont2000.txt\n",
      "itcont2002.txt\n",
      "itcont2004.txt\n",
      "itcont2006.txt\n",
      "itcont2008.txt\n",
      "itcont2010.txt\n",
      "itcont2012.txt\n",
      "itcont2014.txt\n",
      "itcont2016.txt\n",
      "itcont2018.txt\n",
      "itcont2020.txt\n",
      "itcont2022.txt\n",
      "itcont2024.txt\n",
      "myelectiondata.txt\n"
     ]
    }
   ],
   "source": [
    "%%bash\n",
    "mv $SCRATCH/itcont*.txt $SCRATCH/mytemporarydirectory\n",
    "ls $SCRATCH/mytemporarydirectory"
   ]
  },
  {
   "cell_type": "code",
   "execution_count": 33,
   "id": "d1f04d37-36b6-4fe0-9119-6fb042629f2d",
   "metadata": {},
   "outputs": [
    {
     "name": "stdout",
     "output_type": "stream",
     "text": [
      "total 930306\n",
      "drwx------    3 x-jcontreras x-cis220051      4096 Aug 29 21:10 .\n",
      "drwxr-xr-x 9188 nobody       nogroup        524288 Aug 29 17:50 ..\n",
      "-rw-r--r--    1 x-jcontreras x-cis220051 951315928 Aug 29 20:53 myoriginsanddestinations.txt\n",
      "-rw-r--r--    1 x-jcontreras x-cis220051         0 Aug 29 20:59 mysortedoriginsanddestinations.txt\n",
      "drwxr-xr-x    2 x-jcontreras x-cis220051      4096 Aug 29 21:10 mytemporarydirectory\n",
      "total 83581954\n",
      "drwxr-xr-x 2 x-jcontreras x-cis220051        4096 Aug 29 21:10 .\n",
      "drwx------ 3 x-jcontreras x-cis220051        4096 Aug 29 21:10 ..\n",
      "-rw-r--r-- 1 x-jcontreras x-cis220051    37558800 Aug 29 21:09 itcont1980.txt\n",
      "-rw-r--r-- 1 x-jcontreras x-cis220051    20660307 Aug 29 21:09 itcont1982.txt\n",
      "-rw-r--r-- 1 x-jcontreras x-cis220051    31137003 Aug 29 21:09 itcont1984.txt\n",
      "-rw-r--r-- 1 x-jcontreras x-cis220051    34396801 Aug 29 21:09 itcont1986.txt\n",
      "-rw-r--r-- 1 x-jcontreras x-cis220051    53066338 Aug 29 21:09 itcont1988.txt\n",
      "-rw-r--r-- 1 x-jcontreras x-cis220051    64648648 Aug 29 21:09 itcont1990.txt\n",
      "-rw-r--r-- 1 x-jcontreras x-cis220051   107021489 Aug 29 21:09 itcont1992.txt\n",
      "-rw-r--r-- 1 x-jcontreras x-cis220051   101905485 Aug 29 21:09 itcont1994.txt\n",
      "-rw-r--r-- 1 x-jcontreras x-cis220051   148872758 Aug 29 21:09 itcont1996.txt\n",
      "-rw-r--r-- 1 x-jcontreras x-cis220051   122709219 Aug 29 21:09 itcont1998.txt\n",
      "-rw-r--r-- 1 x-jcontreras x-cis220051   208233532 Aug 29 21:09 itcont2000.txt\n",
      "-rw-r--r-- 1 x-jcontreras x-cis220051   182489677 Aug 29 21:09 itcont2002.txt\n",
      "-rw-r--r-- 1 x-jcontreras x-cis220051   370739587 Aug 29 21:09 itcont2004.txt\n",
      "-rw-r--r-- 1 x-jcontreras x-cis220051   287288973 Aug 29 21:09 itcont2006.txt\n",
      "-rw-r--r-- 1 x-jcontreras x-cis220051   540150647 Aug 29 21:09 itcont2008.txt\n",
      "-rw-r--r-- 1 x-jcontreras x-cis220051   341224288 Aug 29 21:09 itcont2010.txt\n",
      "-rw-r--r-- 1 x-jcontreras x-cis220051   549059333 Aug 29 21:09 itcont2012.txt\n",
      "-rw-r--r-- 1 x-jcontreras x-cis220051   371551749 Aug 29 21:09 itcont2014.txt\n",
      "-rw-r--r-- 1 x-jcontreras x-cis220051  3885957507 Aug 29 21:09 itcont2016.txt\n",
      "-rw-r--r-- 1 x-jcontreras x-cis220051  4288951323 Aug 29 21:09 itcont2018.txt\n",
      "-rw-r--r-- 1 x-jcontreras x-cis220051 18539680493 Aug 29 21:09 itcont2020.txt\n",
      "-rw-r--r-- 1 x-jcontreras x-cis220051 12075177160 Aug 29 21:09 itcont2022.txt\n",
      "-rw-r--r-- 1 x-jcontreras x-cis220051   428200453 Aug 29 21:09 itcont2024.txt\n",
      "-rw-r--r-- 1 x-jcontreras x-cis220051 42790681570 Aug 29 20:43 myelectiondata.txt\n"
     ]
    }
   ],
   "source": [
    "%%bash\n",
    "ls -la $SCRATCH\n",
    "ls -la $SCRATCH/mytemporarydirectory"
   ]
  },
  {
   "cell_type": "code",
   "execution_count": 34,
   "id": "c0886b9e-b676-477f-9cf7-49eea1179fdb",
   "metadata": {},
   "outputs": [],
   "source": [
    "%%bash\n",
    "cat $SCRATCH/mytemporarydirectory/itcont*.txt >$SCRATCH/mytemporarydirectory/myelectiondata.txt"
   ]
  },
  {
   "cell_type": "code",
   "execution_count": 35,
   "id": "a0cb46f9-f7d1-47ea-855a-708350e2d0a5",
   "metadata": {},
   "outputs": [
    {
     "name": "stdout",
     "output_type": "stream",
     "text": [
      "total 83581954\n",
      "drwxr-xr-x 2 x-jcontreras x-cis220051        4096 Aug 29 21:10 .\n",
      "drwx------ 3 x-jcontreras x-cis220051        4096 Aug 29 21:10 ..\n",
      "-rw-r--r-- 1 x-jcontreras x-cis220051    37558800 Aug 29 21:09 itcont1980.txt\n",
      "-rw-r--r-- 1 x-jcontreras x-cis220051    20660307 Aug 29 21:09 itcont1982.txt\n",
      "-rw-r--r-- 1 x-jcontreras x-cis220051    31137003 Aug 29 21:09 itcont1984.txt\n",
      "-rw-r--r-- 1 x-jcontreras x-cis220051    34396801 Aug 29 21:09 itcont1986.txt\n",
      "-rw-r--r-- 1 x-jcontreras x-cis220051    53066338 Aug 29 21:09 itcont1988.txt\n",
      "-rw-r--r-- 1 x-jcontreras x-cis220051    64648648 Aug 29 21:09 itcont1990.txt\n",
      "-rw-r--r-- 1 x-jcontreras x-cis220051   107021489 Aug 29 21:09 itcont1992.txt\n",
      "-rw-r--r-- 1 x-jcontreras x-cis220051   101905485 Aug 29 21:09 itcont1994.txt\n",
      "-rw-r--r-- 1 x-jcontreras x-cis220051   148872758 Aug 29 21:09 itcont1996.txt\n",
      "-rw-r--r-- 1 x-jcontreras x-cis220051   122709219 Aug 29 21:09 itcont1998.txt\n",
      "-rw-r--r-- 1 x-jcontreras x-cis220051   208233532 Aug 29 21:09 itcont2000.txt\n",
      "-rw-r--r-- 1 x-jcontreras x-cis220051   182489677 Aug 29 21:09 itcont2002.txt\n",
      "-rw-r--r-- 1 x-jcontreras x-cis220051   370739587 Aug 29 21:09 itcont2004.txt\n",
      "-rw-r--r-- 1 x-jcontreras x-cis220051   287288973 Aug 29 21:09 itcont2006.txt\n",
      "-rw-r--r-- 1 x-jcontreras x-cis220051   540150647 Aug 29 21:09 itcont2008.txt\n",
      "-rw-r--r-- 1 x-jcontreras x-cis220051   341224288 Aug 29 21:09 itcont2010.txt\n",
      "-rw-r--r-- 1 x-jcontreras x-cis220051   549059333 Aug 29 21:09 itcont2012.txt\n",
      "-rw-r--r-- 1 x-jcontreras x-cis220051   371551749 Aug 29 21:09 itcont2014.txt\n",
      "-rw-r--r-- 1 x-jcontreras x-cis220051  3885957507 Aug 29 21:09 itcont2016.txt\n",
      "-rw-r--r-- 1 x-jcontreras x-cis220051  4288951323 Aug 29 21:09 itcont2018.txt\n",
      "-rw-r--r-- 1 x-jcontreras x-cis220051 18539680493 Aug 29 21:09 itcont2020.txt\n",
      "-rw-r--r-- 1 x-jcontreras x-cis220051 12075177160 Aug 29 21:09 itcont2022.txt\n",
      "-rw-r--r-- 1 x-jcontreras x-cis220051   428200453 Aug 29 21:09 itcont2024.txt\n",
      "-rw-r--r-- 1 x-jcontreras x-cis220051 42790681570 Aug 29 21:10 myelectiondata.txt\n"
     ]
    }
   ],
   "source": [
    "%%bash\n",
    "ls -la $SCRATCH/mytemporarydirectory"
   ]
  },
  {
   "cell_type": "code",
   "execution_count": 37,
   "id": "54b1fa5c-c419-447d-b50c-0d39b76bfee6",
   "metadata": {},
   "outputs": [
    {
     "name": "stdout",
     "output_type": "stream",
     "text": [
      "  229169299  1385963208 42790681570 /anvil/scratch/x-jcontreras/mytemporarydirectory/myelectiondata.txt\n"
     ]
    }
   ],
   "source": [
    "%%bash\n",
    "wc $SCRATCH/mytemporarydirectory/myelectiondata.txt"
   ]
  },
  {
   "cell_type": "markdown",
   "id": "47c6229f-35f7-400c-8366-c442baa5cf47",
   "metadata": {},
   "source": [
    "Markdown notes and sentences and analysis written here."
   ]
  },
  {
   "cell_type": "markdown",
   "id": "da22f29c-d245-4d2b-9fc1-ca14cb6087d9",
   "metadata": {},
   "source": [
    "## Question 4"
   ]
  },
  {
   "cell_type": "code",
   "execution_count": 38,
   "id": "8cffc767-d1c8-4d64-b7dc-f0d2ee8a80d1",
   "metadata": {},
   "outputs": [
    {
     "name": "stdout",
     "output_type": "stream",
     "text": [
      "Year,Month,DayofMonth,DayOfWeek,DepTime,CRSDepTime,ArrTime,CRSArrTime,UniqueCarrier,FlightNum,TailNum,ActualElapsedTime,CRSElapsedTime,AirTime,ArrDelay,DepDelay,Origin,Dest,Distance,TaxiIn,TaxiOut,Cancelled,CancellationCode,Diverted,CarrierDelay,WeatherDelay,NASDelay,SecurityDelay,LateAircraftDelay\n",
      "1987,10,14,3,741,730,912,849,PS,1451,NA,91,79,NA,23,11,SAN,SFO,447,NA,NA,0,NA,0,NA,NA,NA,NA,NA\n",
      "1987,10,15,4,729,730,903,849,PS,1451,NA,94,79,NA,14,-1,SAN,SFO,447,NA,NA,0,NA,0,NA,NA,NA,NA,NA\n",
      "1987,10,17,6,741,730,918,849,PS,1451,NA,97,79,NA,29,11,SAN,SFO,447,NA,NA,0,NA,0,NA,NA,NA,NA,NA\n",
      "1987,10,18,7,729,730,847,849,PS,1451,NA,78,79,NA,-2,-1,SAN,SFO,447,NA,NA,0,NA,0,NA,NA,NA,NA,NA\n",
      "1987,10,19,1,749,730,922,849,PS,1451,NA,93,79,NA,33,19,SAN,SFO,447,NA,NA,0,NA,0,NA,NA,NA,NA,NA\n",
      "1987,10,21,3,728,730,848,849,PS,1451,NA,80,79,NA,-1,-2,SAN,SFO,447,NA,NA,0,NA,0,NA,NA,NA,NA,NA\n",
      "1987,10,22,4,728,730,852,849,PS,1451,NA,84,79,NA,3,-2,SAN,SFO,447,NA,NA,0,NA,0,NA,NA,NA,NA,NA\n",
      "1987,10,23,5,731,730,902,849,PS,1451,NA,91,79,NA,13,1,SAN,SFO,447,NA,NA,0,NA,0,NA,NA,NA,NA,NA\n",
      "1987,10,24,6,744,730,908,849,PS,1451,NA,84,79,NA,19,14,SAN,SFO,447,NA,NA,0,NA,0,NA,NA,NA,NA,NA\n"
     ]
    }
   ],
   "source": [
    "%%bash\n",
    "head /anvil/projects/tdm/data/flights/subset/1987.csv"
   ]
  },
  {
   "cell_type": "code",
   "execution_count": 39,
   "id": "19c4d19a-c1c6-47a5-a608-96e58d111b0e",
   "metadata": {},
   "outputs": [],
   "source": [
    "%%bash\n",
    "cut -d, -f17,18 /anvil/projects/tdm/data/flights/subset/[12]*.csv > $SCRATCH/myoriginsanddestinations.txt"
   ]
  },
  {
   "cell_type": "code",
   "execution_count": 40,
   "id": "e69e113d-d503-4084-88bb-a663ccfd29b7",
   "metadata": {},
   "outputs": [
    {
     "name": "stdout",
     "output_type": "stream",
     "text": [
      "-rw-r--r-- 1 x-jcontreras x-cis220051 951315928 Aug 29 21:22 /anvil/scratch/x-jcontreras/myoriginsanddestinations.txt\n"
     ]
    }
   ],
   "source": [
    "ls -la $SCRATCH/myoriginsanddestinations.txt"
   ]
  },
  {
   "cell_type": "code",
   "execution_count": 41,
   "id": "1e47f7a7-c75c-40eb-888d-067cb28b2dae",
   "metadata": {},
   "outputs": [
    {
     "name": "stdout",
     "output_type": "stream",
     "text": [
      "118914480 118914480 951315928 /anvil/scratch/x-jcontreras/myoriginsanddestinations.txt\n"
     ]
    }
   ],
   "source": [
    "%%bash\n",
    "\n",
    "wc $SCRATCH/myoriginsanddestinations.txt"
   ]
  },
  {
   "cell_type": "code",
   "execution_count": 42,
   "id": "34243121-8f83-4819-87c5-9dd1b8165f47",
   "metadata": {},
   "outputs": [],
   "source": [
    "%%bash\n",
    "\n",
    "sort $SCRATCH/myoriginsanddestinations.txt > $SCRATCH/mysortedoriginsanddestinations.txt"
   ]
  },
  {
   "cell_type": "code",
   "execution_count": 44,
   "id": "0a9a400a-8850-4981-9f94-8d7297b21b1e",
   "metadata": {},
   "outputs": [
    {
     "name": "stdout",
     "output_type": "stream",
     "text": [
      "ABE,ALB\n",
      "ABE,ALB\n",
      "ABE,ATL\n",
      "ABE,ATL\n",
      "ABE,ATL\n",
      "ABE,ATL\n",
      "ABE,ATL\n",
      "ABE,ATL\n",
      "ABE,ATL\n",
      "ABE,ATL\n",
      "YUM,SLC\n",
      "YUM,SLC\n",
      "YUM,SLC\n",
      "YUM,SLC\n",
      "YUM,SLC\n",
      "YUM,SLC\n",
      "YUM,SLC\n",
      "YUM,SLC\n",
      "YUM,SLC\n",
      "YUM,SLC\n"
     ]
    }
   ],
   "source": [
    "%%bash\n",
    "head $SCRATCH/mysortedoriginsanddestinations.txt\n",
    "tail $SCRATCH/mysortedoriginsanddestinations.txt"
   ]
  },
  {
   "cell_type": "code",
   "execution_count": 45,
   "id": "f9a2f737-e54f-4563-9caf-7e34aaab2a06",
   "metadata": {},
   "outputs": [],
   "source": [
    "%%bash\n",
    "uniq -c $SCRATCH/mysortedoriginsanddestinations.txt > $SCRATCH/mycounts.txt"
   ]
  },
  {
   "cell_type": "code",
   "execution_count": 49,
   "id": "1830a987-506a-4acd-b908-d3cb82e7bcc3",
   "metadata": {},
   "outputs": [
    {
     "name": "stdout",
     "output_type": "stream",
     "text": [
      "      2 ABE,ALB\n",
      "  15966 ABE,ATL\n",
      "   1627 ABE,AVP\n",
      "      1 ABE,AZO\n",
      "      1 ABE,BDL\n",
      "      1 ABE,BHM\n",
      "   2559 ABE,BWI\n",
      "   5375 ABE,CLE\n",
      "   6917 ABE,CLT\n",
      "   6732 ABE,CVG\n",
      "      1 YKM,SFO\n",
      "      1 YKM,SJC\n",
      "    592 YKM,SLC\n",
      "      1 YUM,GJT\n",
      "   1341 YUM,IPL\n",
      "    434 YUM,LAS\n",
      "   6236 YUM,LAX\n",
      "  12251 YUM,PHX\n",
      "      3 YUM,PSP\n",
      "    263 YUM,SLC\n"
     ]
    }
   ],
   "source": [
    "%%bash\n",
    "head $SCRATCH/mycounts.txt\n",
    "tail $SCRATCH/mycounts.txt"
   ]
  },
  {
   "cell_type": "code",
   "execution_count": 50,
   "id": "4f6f9f74-42aa-4770-b391-705b3450d793",
   "metadata": {},
   "outputs": [],
   "source": [
    "%%bash\n",
    "sort -n $SCRATCH/mycounts.txt > $SCRATCH/mysortedcounts.txt"
   ]
  },
  {
   "cell_type": "code",
   "execution_count": 52,
   "id": "be2b4bcc-a3b3-4583-a2c0-97e8ad85e8d3",
   "metadata": {},
   "outputs": [
    {
     "name": "stdout",
     "output_type": "stream",
     "text": [
      "      1 ABE,AZO\n",
      "      1 ABE,BDL\n",
      "      1 ABE,BHM\n",
      "      1 ABE,GRR\n",
      "      1 ABE,IND\n",
      "      1 ABE,ROC\n",
      "      1 ABE,SBN\n",
      "      1 ABI,LAX\n",
      "      1 ABI,TYR\n",
      "      1 ABI,VCT\n"
     ]
    }
   ],
   "source": [
    "%%bash\n",
    "head $SCRATCH/mysortedcounts.txt"
   ]
  },
  {
   "cell_type": "code",
   "execution_count": 53,
   "id": "4a1282fd-a093-49a5-b549-b8861378f842",
   "metadata": {},
   "outputs": [
    {
     "name": "stdout",
     "output_type": "stream",
     "text": [
      " 232467 LAS,PHX\n",
      " 233977 PHX,LAS\n",
      " 242933 MSP,ORD\n",
      " 243470 ORD,MSP\n",
      " 272681 LAX,PHX\n",
      " 273286 PHX,LAX\n",
      " 278653 LAS,LAX\n",
      " 284494 LAX,LAS\n",
      " 328105 LAX,SFO\n",
      " 329370 SFO,LAX\n"
     ]
    }
   ],
   "source": [
    "%%bash\n",
    "tail $SCRATCH/mysortedcounts.txt"
   ]
  },
  {
   "cell_type": "markdown",
   "id": "0d552245-b4d6-474a-9cc9-fa7b8e674d55",
   "metadata": {},
   "source": [
    "Markdown notes and sentences and analysis written here."
   ]
  },
  {
   "cell_type": "markdown",
   "id": "88c9cdac-3e92-498f-83fa-e089bfc44ac8",
   "metadata": {},
   "source": [
    "## Question 5"
   ]
  },
  {
   "cell_type": "code",
   "execution_count": 55,
   "id": "d370d7c9-06db-42b9-b75f-240481a5c491",
   "metadata": {},
   "outputs": [],
   "source": [
    "%%bash\n",
    "cut -d, -f7 /anvil/projects/tdm/data/8451/The_Complete_Journey_2_Master/5000_transactions.csv > $SCRATCH/tempfile.txt"
   ]
  },
  {
   "cell_type": "code",
   "execution_count": 56,
   "id": "3c65ae95-1f7b-467e-9d36-c2f6e4b93c47",
   "metadata": {},
   "outputs": [
    {
     "name": "stdout",
     "output_type": "stream",
     "text": [
      "STORE_R\n",
      "SOUTH  \n",
      "SOUTH  \n",
      "EAST   \n",
      "WEST   \n",
      "WEST   \n",
      "SOUTH  \n",
      "SOUTH  \n",
      "SOUTH  \n",
      "EAST   \n"
     ]
    }
   ],
   "source": [
    "%%bash\n",
    "head $SCRATCH/tempfile.txt"
   ]
  },
  {
   "cell_type": "code",
   "execution_count": 57,
   "id": "d3cafd13-9de0-40ec-b9d3-626351736e3c",
   "metadata": {},
   "outputs": [],
   "source": [
    "%%bash\n",
    "sort -n $SCRATCH/tempfile.txt > $SCRATCH/sortedtempfile.txt"
   ]
  },
  {
   "cell_type": "code",
   "execution_count": 63,
   "id": "7864b4cc-bb94-4233-9d0d-7dae17f54318",
   "metadata": {},
   "outputs": [
    {
     "name": "stdout",
     "output_type": "stream",
     "text": [
      "2463343 CENTRAL\n",
      "3263360 EAST   \n",
      "2221500 SOUTH  \n",
      "      1 STORE_R\n",
      "2677350 WEST   \n"
     ]
    }
   ],
   "source": [
    "%%bash\n",
    "uniq -c $SCRATCH/sortedtempfile.txt"
   ]
  },
  {
   "cell_type": "markdown",
   "id": "9fbf00fb-2418-460f-ae94-2a32b0c28952",
   "metadata": {},
   "source": [
    "Markdown notes and sentences and analysis written here."
   ]
  },
  {
   "cell_type": "markdown",
   "id": "f76442d6-d02e-4f26-b9d6-c3183e1d6929",
   "metadata": {},
   "source": [
    "## Pledge\n",
    "\n",
    "By submitting this work I hereby pledge that this is my own, personal work. I've acknowledged in the designated place at the top of this file all sources that I used to complete said work, including but not limited to: online resources, books, and electronic communications. I've noted all collaboration with fellow students and/or TA's. I did not copy or plagiarize another's work.\n",
    "\n",
    "> As a Boilermaker pursuing academic excellence, I pledge to be honest and true in all that I do. Accountable together – We are Purdue."
   ]
  }
 ],
 "metadata": {
  "kernelspec": {
   "display_name": "seminar",
   "language": "python",
   "name": "python3"
  },
  "language_info": {
   "codemirror_mode": {
    "name": "ipython",
    "version": 3
   },
   "file_extension": ".py",
   "mimetype": "text/x-python",
   "name": "python",
   "nbconvert_exporter": "python",
   "pygments_lexer": "ipython3",
   "version": "3.11.5"
  }
 },
 "nbformat": 4,
 "nbformat_minor": 5
}
