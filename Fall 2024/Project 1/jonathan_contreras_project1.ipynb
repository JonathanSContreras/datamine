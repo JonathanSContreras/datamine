{
 "cells": [
  {
   "cell_type": "markdown",
   "id": "be02a957-7133-4d02-818e-fedeb3cecb05",
   "metadata": {},
   "source": [
    "# Project 1 -- Jonathan Contreras"
   ]
  },
  {
   "cell_type": "markdown",
   "id": "a1228853-dd19-4ab2-89e0-0394d7d72de3",
   "metadata": {},
   "source": [
    "**TA Help:** \n",
    "    \n",
    "**Collaboration:**"
   ]
  },
  {
   "cell_type": "markdown",
   "id": "6180e742-8e39-4698-98ff-5b00c8cf8ea0",
   "metadata": {},
   "source": [
    "## Question 1"
   ]
  },
  {
   "cell_type": "code",
   "execution_count": 1,
   "id": "49445606-d363-41b4-b479-e319a9a84c01",
   "metadata": {},
   "outputs": [
    {
     "name": "stdout",
     "output_type": "stream",
     "text": [
      "Hello World!\n"
     ]
    }
   ],
   "source": [
    "print(\"Hello World!\")"
   ]
  },
  {
   "cell_type": "code",
   "execution_count": 2,
   "id": "ceba1f2c-4828-4731-aa29-93a828f49454",
   "metadata": {},
   "outputs": [
    {
     "name": "stdout",
     "output_type": "stream",
     "text": [
      "Hello World!\n"
     ]
    }
   ],
   "source": [
    "%%bash\n",
    "echo Hello World!"
   ]
  },
  {
   "cell_type": "code",
   "execution_count": 3,
   "id": "efec96a1-e966-4541-91fc-a06ff2b766d6",
   "metadata": {},
   "outputs": [
    {
     "name": "stdout",
     "output_type": "stream",
     "text": [
      "Hello Jonathan!\n"
     ]
    }
   ],
   "source": [
    "%%bash\n",
    "# cell magic is used to run code in bash\n",
    "# echo is a command to print lines of tech in shell\n",
    "echo Hello Jonathan!"
   ]
  },
  {
   "cell_type": "code",
   "execution_count": 4,
   "id": "a2ac9c60-6b35-4212-8cf1-0abbe9b19299",
   "metadata": {},
   "outputs": [
    {
     "name": "stdout",
     "output_type": "stream",
     "text": [
      "Hello Jonathan!\n"
     ]
    }
   ],
   "source": [
    "%%bash\n",
    "# ^ cell magic has to be the first line in our code \n",
    "echo Hello Jonathan!"
   ]
  },
  {
   "cell_type": "markdown",
   "id": "b456e57c-4a12-464b-999a-ef2df5af80c1",
   "metadata": {},
   "source": [
    "Getting familiar with how writing bash works"
   ]
  },
  {
   "cell_type": "markdown",
   "id": "fc601975-35ed-4680-a4e1-0273ee3cc047",
   "metadata": {},
   "source": [
    "## Question 2"
   ]
  },
  {
   "cell_type": "code",
   "execution_count": 5,
   "id": "a16336a1-1ef0-41e8-bc7c-49387db27497",
   "metadata": {},
   "outputs": [],
   "source": [
    "%%bash\n",
    "cd /anvil/projects/tdm/data/flights/subset/\n",
    "# or \n",
    "# cd /anvil/projects/tdm/data/flights/\n",
    "# cd subset"
   ]
  },
  {
   "cell_type": "code",
   "execution_count": 6,
   "id": "4e357fb1-2b4b-4360-b2b8-deee865b80dc",
   "metadata": {},
   "outputs": [
    {
     "name": "stdout",
     "output_type": "stream",
     "text": [
      "/anvil/projects/tdm/data\n",
      "======================================================================\n",
      "8451\n",
      "DELETE_house-prices\n",
      "DELETE_wine\n",
      "airbnb\n",
      "amazon\n",
      "apple\n",
      "bay_area_bike_share\n",
      "beer\n",
      "bosch\n",
      "boston_housing\n",
      "boundaries\n",
      "chinook\n",
      "coco\n",
      "concrete_crack_data_tfrecords\n",
      "concrete_cracks_mini\n",
      "consumer_complaints\n",
      "craigslist\n",
      "death_records\n",
      "disney\n",
      "donorschoose\n",
      "election\n",
      "expedia\n",
      "fao\n",
      "fars\n",
      "fips\n",
      "flights\n",
      "forest\n",
      "goodreads\n",
      "hidden\n",
      "icecream\n",
      "images\n",
      "iowa_liquor_sales\n",
      "iris\n",
      "lahman\n",
      "movies_and_tv\n",
      "noaa\n",
      "okcupid\n",
      "olympics\n",
      "open_food_facts\n",
      "otc\n",
      "precip\n",
      "project05\n",
      "project09\n",
      "restaurant\n",
      "scavenger_hunt\n",
      "sim\n",
      "stackoverflow\n",
      "taxi\n",
      "techcrunch\n",
      "whin\n",
      "wine_quality\n",
      "yelp\n",
      "youtube\n",
      "zillow\n",
      "======================================================================\n",
      "total 257\n",
      "drwxrwsr-x+ 56 nobody nogroup      4096 Jul 29 15:25 .\n",
      "drwxrwsr-x+ 15 nobody nogroup      8192 Jul 27 17:33 ..\n",
      "drwxrwsr-x+  4 nobody nogroup      4096 Sep  1  2019 8451\n",
      "drwxr-sr-x+  2 nobody nogroup      4096 Jun 11 09:10 DELETE_house-prices\n",
      "drwxr-sr-x+  2 nobody nogroup      4096 Jun 11 09:15 DELETE_wine\n",
      "drwxrwsr-x+ 36 nobody nogroup      8192 Jul 24  2023 airbnb\n",
      "drwxrwsr-x+  4 nobody nogroup      4096 Mar 11 09:58 amazon\n",
      "drwxrwsr-x+  3 nobody nogroup      4096 Jan 14  2021 apple\n",
      "drwxrwsr-x+  4 nobody nogroup     16384 Jul 28  2023 bay_area_bike_share\n",
      "drwxrwsr-x+  2 nobody nogroup      4096 Apr  1 08:48 beer\n",
      "drwxrwsr-x+  2 nobody nogroup      4096 Jan  7  2022 bosch\n",
      "drwxrwsr-x+  2 nobody nogroup      4096 Jul 29 15:18 boston_housing\n",
      "drwxrwsr-x+  2 nobody nogroup      4096 Jul 27  2023 boundaries\n",
      "drwxrwsr-x+  2 nobody nogroup      4096 Jul 25  2023 chinook\n",
      "drwxrwsr-x+  6 nobody nogroup      4096 Feb 24  2022 coco\n",
      "dr-xr-xr-x   2 nobody x-cis220051  4096 Apr 10 14:34 concrete_crack_data_tfrecords\n",
      "dr-xr-xr-x   4 nobody x-cis220051  4096 Mar 12 10:13 concrete_cracks_mini\n",
      "drwxrwsr-x+  2 nobody nogroup      4096 Jul 27  2023 consumer_complaints\n",
      "drwxrwsr-x+  2 nobody nogroup      4096 Jul 28  2023 craigslist\n",
      "drwxrwsr-x+  2 nobody nogroup      4096 Jul 29  2020 death_records\n",
      "drwxrwsr-x+  2 nobody nogroup      4096 Jul 28  2023 disney\n",
      "drwxrwsr-x+  2 nobody nogroup      4096 Jul 29  2023 donorschoose\n",
      "drwxrwsr-x+  2 nobody nogroup      4096 Aug  5  2023 election\n",
      "drwxrwsr-x+  2 nobody nogroup      4096 Mar 30  2022 expedia\n",
      "drwxrwsr-x+  2 nobody nogroup     32768 Jul 29  2023 fao\n",
      "drwxrwsr-x+ 49 nobody nogroup     16384 Jul 30  2023 fars\n",
      "drwxrwsr-x+  2 nobody nogroup      4096 Jul 29  2023 fips\n",
      "drwxrwsr-x+  3 nobody nogroup      4096 Aug 13  2023 flights\n",
      "drwxrwsr-x+  2 nobody nogroup      8192 Aug  5  2023 forest\n",
      "drwxrwsr-x+  5 nobody nogroup      4096 Aug  2  2023 goodreads\n",
      "drwxrws--x+  2 nobody nogroup      4096 Jan 16  2020 hidden\n",
      "drwxrwsr-x+  7 nobody nogroup      4096 Aug  1  2023 icecream\n",
      "drwxrwsr-x+  2 nobody nogroup      4096 Sep 19  2023 images\n",
      "drwxrwsr-x+  2 nobody nogroup      4096 Aug  5  2023 iowa_liquor_sales\n",
      "drwxrwsr-x+  2 nobody nogroup      4096 Jul 29 15:20 iris\n",
      "drwxrwsr-x+  2 nobody nogroup      4096 Jul 23  2023 lahman\n",
      "drwxrwsr-x+  4 nobody nogroup      4096 Aug 13  2023 movies_and_tv\n",
      "drwxrwsr-x+  2 nobody nogroup     16384 Aug 18  2023 noaa\n",
      "drwxrwsr-x+  4 nobody nogroup      4096 Aug 18  2023 okcupid\n",
      "drwxrwsr-x+  2 nobody nogroup      4096 Aug  5  2021 olympics\n",
      "drwxrwsr-x+  2 nobody nogroup      4096 Nov 17  2020 open_food_facts\n",
      "drwxrwsr-x+ 12 nobody nogroup      4096 Feb  2  2024 otc\n",
      "drwxrwsr-x+  2 nobody nogroup      4096 Sep  3  2021 precip\n",
      "drwxrwsr-x+  2 nobody nogroup      4096 Feb  9  2024 project05\n",
      "dr-xr-sr-x+  2 nobody nogroup      4096 Feb  8  2024 project09\n",
      "drwxrwsr-x+  2 nobody nogroup      4096 Oct  5  2023 restaurant\n",
      "drwxrwsr-x+  4 nobody nogroup      4096 Aug 10  2021 scavenger_hunt\n",
      "drwxrwsr-x+  2 nobody nogroup      4096 Mar 30  2022 sim\n",
      "drwxrwsr-x+  5 nobody nogroup      4096 Aug  2  2021 stackoverflow\n",
      "drwxrwsr-x+ 10 nobody nogroup      4096 Aug 13  2023 taxi\n",
      "drwxrwsr-x+  2 nobody nogroup      4096 Aug  5  2023 techcrunch\n",
      "drwxrwsr-x+  5 nobody nogroup      4096 Mar  2 05:25 whin\n",
      "drwxr-sr-x+  2 nobody nogroup      4096 Jul 29 15:22 wine_quality\n",
      "drwxr-sr-x+  6 nobody nogroup      4096 Aug 14  2023 yelp\n",
      "drwxrwsr-x+  2 nobody nogroup      4096 Aug  5  2023 youtube\n",
      "drwxrwsr-x+  2 nobody nogroup      4096 Aug  5  2023 zillow\n"
     ]
    }
   ],
   "source": [
    "%%bash\n",
    "cd /anvil/projects/tdm/data/flights/subset/\n",
    "cd .. \n",
    "cd ..\n",
    "pwd\n",
    "echo \"======================================================================\"\n",
    "ls\n",
    "echo \"======================================================================\"\n",
    "ls -la"
   ]
  },
  {
   "cell_type": "code",
   "execution_count": 7,
   "id": "91982522-ff19-4514-9943-0a2377c51fd3",
   "metadata": {},
   "outputs": [
    {
     "name": "stdout",
     "output_type": "stream",
     "text": [
      "total 13391875\n",
      "drwxrwsr-x+ 2 nobody nogroup      4096 Aug  3  2023 .\n",
      "drwxrwsr-x+ 3 nobody nogroup      4096 Aug 13  2023 ..\n",
      "-rwxrwxr-x  1 nobody nogroup 127162942 Jun 23  2020 1987.csv\n",
      "-rw-rw-r--  1 nobody nogroup   9919855 Feb 25  2022 1987.parquet\n",
      "-rwxrwxr-x  1 nobody nogroup 501039472 Jun 23  2020 1988.csv\n",
      "-rw-rw-r--  1 nobody nogroup  38935464 Feb 25  2022 1988.parquet\n",
      "-rwxrwxr-x  1 nobody nogroup 486518821 Jun 23  2020 1989.csv\n",
      "-rw-rw-r--  1 nobody nogroup  38165062 Feb 25  2022 1989.parquet\n",
      "-rwxrwxr-x  1 nobody nogroup 509194687 Jun 23  2020 1990.csv\n",
      "-rw-rw-r--  1 nobody nogroup  40368976 Feb 25  2022 1990.parquet\n",
      "-rwxrwxr-x  1 nobody nogroup 491210093 Jun 23  2020 1991.csv\n",
      "-rw-rw-r--  1 nobody nogroup  39173410 Feb 25  2022 1991.parquet\n",
      "-rwxrwxr-x  1 nobody nogroup 492313731 Jun 23  2020 1992.csv\n",
      "-rw-rw-r--  1 nobody nogroup  38761061 Feb 25  2022 1992.parquet\n",
      "-rwxrwxr-x  1 nobody nogroup 490753652 Jun 23  2020 1993.csv\n",
      "-rw-rw-r--  1 nobody nogroup  39074300 Feb 25  2022 1993.parquet\n",
      "-rwxrwxr-x  1 nobody nogroup 501558665 Jun 23  2020 1994.csv\n",
      "-rw-rw-r--  1 nobody nogroup  40319589 Feb 25  2022 1994.parquet\n",
      "-rwxrwxr-x  1 nobody nogroup 530751568 Jun 23  2020 1995.csv\n",
      "-rw-rw-r--  1 nobody nogroup  63795378 Feb 25  2022 1995.parquet\n",
      "-rwxrwxr-x  1 nobody nogroup 533922363 Jun 23  2020 1996.csv\n",
      "-rw-rw-r--  1 nobody nogroup  64339867 Feb 25  2022 1996.parquet\n",
      "-rwxrwxr-x  1 nobody nogroup 540347861 Jun 23  2020 1997.csv\n",
      "-rw-rw-r--  1 nobody nogroup  65223516 Feb 25  2022 1997.parquet\n",
      "-rwxrwxr-x  1 nobody nogroup 538432875 Jun 23  2020 1998.csv\n",
      "-rw-rw-r--  1 nobody nogroup  64692536 Feb 25  2022 1998.parquet\n",
      "-rwxrwxr-x  1 nobody nogroup 552926022 Jun 23  2020 1999.csv\n",
      "-rw-rw-r--  1 nobody nogroup  67362270 Feb 25  2022 1999.parquet\n",
      "-rwxrwxr-x  1 nobody nogroup 570151613 Jun 23  2020 2000.csv\n",
      "-rw-rw-r--  1 nobody nogroup  69778557 Feb 25  2022 2000.parquet\n",
      "-rwxrwxr-x  1 nobody nogroup 596910261 Jun 23  2020 2001.csv\n",
      "-rw-rw-r--  1 nobody nogroup  72337907 Feb 25  2022 2001.parquet\n",
      "-rwxrwxr-x  1 nobody nogroup 530036430 Jun 23  2020 2002.csv\n",
      "-rw-rw-r--  1 nobody nogroup  70441868 Feb 25  2022 2002.parquet\n",
      "-rwxrwxr-x  1 nobody nogroup 626745242 Jun 23  2020 2003.csv\n",
      "-rw-rw-r--  1 nobody nogroup  99488934 Feb 25  2022 2003.parquet\n",
      "-rwxrwxr-x  1 nobody nogroup 669879113 Jun 23  2020 2004.csv\n",
      "-rw-rw-r--  1 nobody nogroup 125133948 Feb 25  2022 2004.parquet\n",
      "-rwxrwxr-x  1 nobody nogroup 671027265 Jun 23  2020 2005.csv\n",
      "-rw-rw-r--  1 nobody nogroup 124116368 Feb 25  2022 2005.parquet\n",
      "-rwxrwxr-x  1 nobody nogroup 672068096 Jun 23  2020 2006.csv\n",
      "-rw-rw-r--  1 nobody nogroup 128082272 Feb 25  2022 2006.parquet\n",
      "-rwxrwxr-x  1 nobody nogroup 702878193 Jun 23  2020 2007.csv\n",
      "-rw-rw-r--  1 nobody nogroup 133656617 Feb 25  2022 2007.parquet\n",
      "-rwxrwxr-x  1 nobody nogroup 234052199 Jun 23  2020 2008.csv\n",
      "-rw-rw-r--  1 nobody nogroup  43476039 Feb 25  2022 2008.parquet\n",
      "-rwxrwxr-x  1 nobody nogroup    244438 Jun 23  2020 airports.csv\n",
      "-rw-rw-r--  1 nobody nogroup    164824 Feb 25  2022 airports.parquet\n",
      "-rwxrwxr-x  1 nobody nogroup     43758 Jun 23  2020 carriers.csv\n",
      "-rw-rw-r--  1 nobody nogroup     31478 Feb 25  2022 carriers.parquet\n",
      "-rw-rw-r--  1 nobody nogroup    140332 Sep  2  2021 flights_sample.csv\n",
      "-rwxrwxr-x  1 nobody nogroup 653385728 Nov 29  2022 flights_sample.db\n",
      "-rwxrwxr-x  1 nobody nogroup    428796 Jun 23  2020 plane-data.csv\n",
      "-rw-rw-r--  1 nobody nogroup     72430 Feb 25  2022 plane-data.parquet\n",
      "-rwx------  1 nobody nogroup       367 Jun 24  2020 sampler.sh\n",
      "-rwxrwxr-x  1 nobody nogroup      1091 Jun 23  2020 variable-descriptions.csv\n",
      "-rw-rw-r--  1 nobody nogroup      4069 Feb 25  2022 variable-descriptions.parquet\n"
     ]
    }
   ],
   "source": [
    "%%bash\n",
    "cd /anvil/projects/tdm/data/flights/subset/\n",
    "ls -la"
   ]
  },
  {
   "cell_type": "code",
   "execution_count": 8,
   "id": "5c01e471-9d3f-4d0d-8117-8cd2436576f8",
   "metadata": {},
   "outputs": [
    {
     "name": "stdout",
     "output_type": "stream",
     "text": [
      "total 91742211\n",
      "drwxrwsr-x+  3 nobody nogroup       4096 Aug 13  2023 .\n",
      "drwxrwsr-x+ 56 nobody nogroup       4096 Jul 29 15:25 ..\n",
      "-rw-rw-r--   1 nobody nogroup  545915930 Aug 13  2023 1987.csv\n",
      "-rw-rw-r--   1 nobody nogroup 2162740526 Aug 13  2023 1988.csv\n",
      "-rw-rw-r--   1 nobody nogroup 2096349350 Aug 13  2023 1989.csv\n",
      "-rw-rw-r--   1 nobody nogroup 2194211337 Aug 13  2023 1990.csv\n",
      "-rw-rw-r--   1 nobody nogroup 2115016560 Aug 13  2023 1991.csv\n",
      "-rw-rw-r--   1 nobody nogroup 2120743261 Aug 13  2023 1992.csv\n",
      "-rw-rw-r--   1 nobody nogroup 2111465584 Aug 13  2023 1993.csv\n",
      "-rw-rw-r--   1 nobody nogroup 2157417448 Aug 13  2023 1994.csv\n",
      "-rw-rw-r--   1 nobody nogroup 2363875459 Aug 13  2023 1995.csv\n",
      "-rw-rw-r--   1 nobody nogroup 2372575770 Aug 13  2023 1996.csv\n",
      "-rw-rw-r--   1 nobody nogroup 2401734989 Aug 13  2023 1997.csv\n",
      "-rw-rw-r--   1 nobody nogroup 2387696047 Aug 13  2023 1998.csv\n",
      "-rw-rw-r--   1 nobody nogroup 2451878835 Aug 13  2023 1999.csv\n",
      "-rw-rw-r--   1 nobody nogroup 2520057210 Aug 13  2023 2000.csv\n",
      "-rw-rw-r--   1 nobody nogroup 2645866004 Aug 13  2023 2001.csv\n",
      "-rw-rw-r--   1 nobody nogroup 2345271329 Aug 13  2023 2002.csv\n",
      "-rw-rw-r--   1 nobody nogroup 2898075715 Aug 13  2023 2003.csv\n",
      "-rw-rw-r--   1 nobody nogroup 3199828904 Aug 13  2023 2004.csv\n",
      "-rw-rw-r--   1 nobody nogroup 3205123559 Aug 13  2023 2005.csv\n",
      "-rw-rw-r--   1 nobody nogroup 3208307209 Aug 13  2023 2006.csv\n",
      "-rw-rw-r--   1 nobody nogroup 3351850122 Aug 13  2023 2007.csv\n",
      "-rw-rw-r--   1 nobody nogroup 3151672941 Aug 13  2023 2008.csv\n",
      "-rw-rw-r--   1 nobody nogroup 2905145622 Aug 13  2023 2009.csv\n",
      "-rw-rw-r--   1 nobody nogroup 2903027237 Aug 13  2023 2010.csv\n",
      "-rw-rw-r--   1 nobody nogroup 2738667665 Aug 13  2023 2011.csv\n",
      "-rw-rw-r--   1 nobody nogroup 2744964561 Aug 13  2023 2012.csv\n",
      "-rw-rw-r--   1 nobody nogroup 2872118832 Aug 13  2023 2013.csv\n",
      "-rw-rw-r--   1 nobody nogroup 2623645248 Aug 13  2023 2014.csv\n",
      "-rw-rw-r--   1 nobody nogroup 2622741764 Aug 13  2023 2015.csv\n",
      "-rw-rw-r--   1 nobody nogroup 2532569251 Aug 13  2023 2016.csv\n",
      "-rw-rw-r--   1 nobody nogroup 2559020929 Aug 13  2023 2017.csv\n",
      "-rw-rw-r--   1 nobody nogroup 3253761021 Aug 13  2023 2018.csv\n",
      "-rw-rw-r--   1 nobody nogroup 3351077194 Aug 13  2023 2019.csv\n",
      "-rw-rw-r--   1 nobody nogroup 2093428021 Aug 13  2023 2020.csv\n",
      "-rw-rw-r--   1 nobody nogroup 2704128678 Aug 13  2023 2021.csv\n",
      "-rw-rw-r--   1 nobody nogroup 3034870106 Aug 13  2023 2022.csv\n",
      "-rw-rw-r--   1 nobody nogroup  986296974 Aug 13  2023 2023.csv\n",
      "drwxrwsr-x+  2 nobody nogroup       4096 Aug  3  2023 subset\n"
     ]
    }
   ],
   "source": [
    "%%bash\n",
    "cd /anvil/projects/tdm/data/flights/\n",
    "ls -la"
   ]
  },
  {
   "cell_type": "markdown",
   "id": "14dc22d4-ddc3-41cc-a91a-cb0025bc0c80",
   "metadata": {},
   "source": [
    "The years of flight data in /anvil/projects/tdm/data/flights/subset/ are 1987 - 2008.\n",
    "The years of flight data in /anvil/projects/tdm/data/flights/ are 1987 - 2023.\n",
    "The directory with the bigger file sizes is /anvil/projects/tdm/data/flights/"
   ]
  },
  {
   "cell_type": "markdown",
   "id": "8e586edd-ff26-4ce2-8f6b-2424b26f2929",
   "metadata": {},
   "source": [
    "## Question 3"
   ]
  },
  {
   "cell_type": "code",
   "execution_count": 9,
   "id": "bbe0f40d-9655-4653-9ca8-886bdb61cb91",
   "metadata": {},
   "outputs": [
    {
     "name": "stdout",
     "output_type": "stream",
     "text": [
      "Year,Month,DayofMonth,DayOfWeek,DepTime,CRSDepTime,ArrTime,CRSArrTime,UniqueCarrier,FlightNum,TailNum,ActualElapsedTime,CRSElapsedTime,AirTime,ArrDelay,DepDelay,Origin,Dest,Distance,TaxiIn,TaxiOut,Cancelled,CancellationCode,Diverted,CarrierDelay,WeatherDelay,NASDelay,SecurityDelay,LateAircraftDelay\n",
      "1987,10,14,3,741,730,912,849,PS,1451,NA,91,79,NA,23,11,SAN,SFO,447,NA,NA,0,NA,0,NA,NA,NA,NA,NA\n",
      "1987,10,15,4,729,730,903,849,PS,1451,NA,94,79,NA,14,-1,SAN,SFO,447,NA,NA,0,NA,0,NA,NA,NA,NA,NA\n",
      "1987,10,17,6,741,730,918,849,PS,1451,NA,97,79,NA,29,11,SAN,SFO,447,NA,NA,0,NA,0,NA,NA,NA,NA,NA\n",
      "1987,10,18,7,729,730,847,849,PS,1451,NA,78,79,NA,-2,-1,SAN,SFO,447,NA,NA,0,NA,0,NA,NA,NA,NA,NA\n",
      "1987,10,19,1,749,730,922,849,PS,1451,NA,93,79,NA,33,19,SAN,SFO,447,NA,NA,0,NA,0,NA,NA,NA,NA,NA\n"
     ]
    }
   ],
   "source": [
    "%%bash\n",
    "head -n6 /anvil/projects/tdm/data/flights/subset/1987.csv"
   ]
  },
  {
   "cell_type": "code",
   "execution_count": 10,
   "id": "a64c9ddf-f5ba-43f2-8018-85dd93e1d011",
   "metadata": {},
   "outputs": [],
   "source": [
    "%%bash \n",
    "# -d, means that a comma will be places in between the data\n",
    "# -f17,18 means to cut at the 17th and 18th fields. In our case, Origin and Destination.\n",
    "# If we wanted to cut at the ArrDelay and DepDelay, we would do -f15,16\n",
    "cut -d, -f17,18 /anvil/projects/tdm/data/flights/subset/1987.csv >$HOME/originsanddestinations.csv"
   ]
  },
  {
   "cell_type": "code",
   "execution_count": 11,
   "id": "b1433b0f-94f0-4bd0-b125-1e84bdf5112a",
   "metadata": {},
   "outputs": [
    {
     "name": "stdout",
     "output_type": "stream",
     "text": [
      " 1311827  1311827 10494620 /home/x-jcontreras/originsanddestinations.csv\n",
      "==============================\n",
      "Origin,Dest\n",
      "SAN,SFO\n",
      "SAN,SFO\n",
      "SAN,SFO\n",
      "SAN,SFO\n",
      "SAN,SFO\n",
      "SAN,SFO\n",
      "SAN,SFO\n",
      "SAN,SFO\n",
      "SAN,SFO\n"
     ]
    }
   ],
   "source": [
    "%%bash\n",
    "# wc stands for Word Count, although it can also count characters and lines\n",
    "wc $HOME/originsanddestinations.csv\n",
    "echo \"==============================\"\n",
    "head $HOME/originsanddestinations.csv"
   ]
  },
  {
   "cell_type": "markdown",
   "id": "47c6229f-35f7-400c-8366-c442baa5cf47",
   "metadata": {},
   "source": [
    "Markdown notes and sentences and analysis written here."
   ]
  },
  {
   "cell_type": "markdown",
   "id": "da22f29c-d245-4d2b-9fc1-ca14cb6087d9",
   "metadata": {},
   "source": [
    "## Question 4"
   ]
  },
  {
   "cell_type": "code",
   "execution_count": 12,
   "id": "8cffc767-d1c8-4d64-b7dc-f0d2ee8a80d1",
   "metadata": {},
   "outputs": [],
   "source": [
    "%%bash\n",
    "grep \"IND\" /anvil/projects/tdm/data/flights/subset/1987.csv >$HOME/indyflights.csv"
   ]
  },
  {
   "cell_type": "code",
   "execution_count": 13,
   "id": "55e9633c-7b04-4695-8b56-e79b6ca717cd",
   "metadata": {},
   "outputs": [
    {
     "name": "stdout",
     "output_type": "stream",
     "text": [
      "1987,10,1,4,700,700,804,755,TW,76,NA,64,55,NA,9,0,STL,IND,229,NA,NA,0,NA,0,NA,NA,NA,NA,NA\n",
      "1987,10,2,5,700,700,805,755,TW,76,NA,65,55,NA,10,0,STL,IND,229,NA,NA,0,NA,0,NA,NA,NA,NA,NA\n",
      "1987,10,3,6,659,700,757,755,TW,76,NA,58,55,NA,2,-1,STL,IND,229,NA,NA,0,NA,0,NA,NA,NA,NA,NA\n",
      "1987,10,4,7,700,700,756,755,TW,76,NA,56,55,NA,1,0,STL,IND,229,NA,NA,0,NA,0,NA,NA,NA,NA,NA\n",
      "1987,10,6,2,702,700,806,755,TW,76,NA,64,55,NA,11,2,STL,IND,229,NA,NA,0,NA,0,NA,NA,NA,NA,NA\n",
      "1987,10,7,3,700,700,804,755,TW,76,NA,64,55,NA,9,0,STL,IND,229,NA,NA,0,NA,0,NA,NA,NA,NA,NA\n",
      "1987,10,8,4,658,700,804,755,TW,76,NA,66,55,NA,9,-2,STL,IND,229,NA,NA,0,NA,0,NA,NA,NA,NA,NA\n",
      "1987,10,9,5,700,700,805,755,TW,76,NA,65,55,NA,10,0,STL,IND,229,NA,NA,0,NA,0,NA,NA,NA,NA,NA\n",
      "1987,10,10,6,700,700,804,755,TW,76,NA,64,55,NA,9,0,STL,IND,229,NA,NA,0,NA,0,NA,NA,NA,NA,NA\n",
      "1987,10,11,7,700,700,752,755,TW,76,NA,52,55,NA,-3,0,STL,IND,229,NA,NA,0,NA,0,NA,NA,NA,NA,NA\n"
     ]
    }
   ],
   "source": [
    "%%bash \n",
    "# going changing into the directory that the indyflights.csv is located in\n",
    "cd ../../../\n",
    "# pwd\n",
    "# ls\n",
    "head indyflights.csv"
   ]
  },
  {
   "cell_type": "markdown",
   "id": "0d552245-b4d6-474a-9cc9-fa7b8e674d55",
   "metadata": {},
   "source": [
    "Markdown notes and sentences and analysis written here."
   ]
  },
  {
   "cell_type": "markdown",
   "id": "88c9cdac-3e92-498f-83fa-e089bfc44ac8",
   "metadata": {},
   "source": [
    "## Question 5"
   ]
  },
  {
   "cell_type": "code",
   "execution_count": 14,
   "id": "d370d7c9-06db-42b9-b75f-240481a5c491",
   "metadata": {},
   "outputs": [
    {
     "name": "stdout",
     "output_type": "stream",
     "text": [
      "brand,key,author,date,stars,title,helpful_yes,helpful_no,text,taste,ingredients,texture,likes\n",
      "5\n",
      "5\n",
      "5\n",
      "5\n",
      "5\n",
      "1\n",
      "4\n",
      "5\n",
      "5\n",
      "5\n",
      "5\n",
      "4\n",
      "5\n",
      "1\n",
      "5\n",
      "5\n",
      "2\n",
      "2\n",
      "12\n"
     ]
    }
   ],
   "source": [
    "%%bash\n",
    "# extraccting all reviews that contain the word 'terrific' and saving it to a file called terrificreviews.csv \n",
    "# -i ensures it is case-insensitive\n",
    "grep -i \"terrific\" /anvil/projects/tdm/data/icecream/combined/reviews.csv >$HOME/terrificreviews.csv\n",
    "cd ../../../\n",
    "\n",
    "head -n1 /anvil/projects/tdm/data/icecream/combined/reviews.csv\n",
    "\n",
    "cut -d, -f5 terrificreviews.csv\n",
    "\n",
    "# counting how many 1 star reviews there are\n",
    "grep \",1,\" terrificreviews.csv | wc -l\n",
    "# counting how many 4 star reviews there are\n",
    "grep \",4,\" terrificreviews.csv | wc -l\n",
    "# counting how many 5 star reviews there are\n",
    "grep \",5,\" terrificreviews.csv | wc -l"
   ]
  },
  {
   "cell_type": "markdown",
   "id": "9fbf00fb-2418-460f-ae94-2a32b0c28952",
   "metadata": {},
   "source": [
    "There are 2 one star reviews in the terrificreviews.csv file\n",
    "There are 2 four star reviews in the terrificreviews.csv file\n",
    "There are 12 five star reviews in the terrificreviews.csv file"
   ]
  },
  {
   "cell_type": "markdown",
   "id": "f76442d6-d02e-4f26-b9d6-c3183e1d6929",
   "metadata": {},
   "source": [
    "## Pledge\n",
    "\n",
    "By submitting this work I hereby pledge that this is my own, personal work. I've acknowledged in the designated place at the top of this file all sources that I used to complete said work, including but not limited to: online resources, books, and electronic communications. I've noted all collaboration with fellow students and/or TA's. I did not copy or plagiarize another's work.\n",
    "\n",
    "> As a Boilermaker pursuing academic excellence, I pledge to be honest and true in all that I do. Accountable together – We are Purdue."
   ]
  }
 ],
 "metadata": {
  "kernelspec": {
   "display_name": "seminar",
   "language": "python",
   "name": "python3"
  },
  "language_info": {
   "codemirror_mode": {
    "name": "ipython",
    "version": 3
   },
   "file_extension": ".py",
   "mimetype": "text/x-python",
   "name": "python",
   "nbconvert_exporter": "python",
   "pygments_lexer": "ipython3",
   "version": "3.11.5"
  }
 },
 "nbformat": 4,
 "nbformat_minor": 5
}
